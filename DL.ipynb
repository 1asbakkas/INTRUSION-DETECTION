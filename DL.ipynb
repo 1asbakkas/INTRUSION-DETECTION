{
  "cells": [
    {
      "cell_type": "code",
      "execution_count": null,
      "metadata": {
        "id": "6jexTzjt07A7"
      },
      "outputs": [],
      "source": [
        "# Importation des modules et librairies nécessaires\n",
        "import pandas as pd\n",
        "import numpy as np\n",
        "from sklearn import preprocessing\n",
        "import matplotlib.pyplot as plt\n",
        "%matplotlib inline"
      ]
    },
    {
      "cell_type": "code",
      "execution_count": 2,
      "metadata": {
        "colab": {
          "base_uri": "https://localhost:8080/"
        },
        "id": "MUFyYPxf1FzJ",
        "outputId": "a6bb3925-26f2-44c0-9a8f-9c32ebdabbcf"
      },
      "outputs": [
        {
          "name": "stdout",
          "output_type": "stream",
          "text": [
            "zsh:1: no matches found: https://github.com/fisher85/ml-cybersecurity/blob/master/python-web-attack-detection/datasets/Thursday-WorkingHours-Morning-WebAttacks.pcap_ISCX.csv.zip?raw=true\n",
            "unzip:  cannot find or open dataset.zip, dataset.zip.zip or dataset.zip.ZIP.\n"
          ]
        }
      ],
      "source": [
        "# Téléchargement de la dataset de Github à Google Colab et sa décompression\n",
        "!wget https://github.com/fisher85/ml-cybersecurity/blob/master/python-web-attack-detection/datasets/Thursday-WorkingHours-Morning-WebAttacks.pcap_ISCX.csv.zip?raw=true -O dataset.zip\n",
        "!unzip -u dataset.zip"
      ]
    },
    {
      "cell_type": "markdown",
      "metadata": {},
      "source": []
    },
    {
      "cell_type": "code",
      "execution_count": 3,
      "metadata": {
        "colab": {
          "base_uri": "https://localhost:8080/"
        },
        "id": "LGBr8fIr1IVf",
        "outputId": "beeaf7a6-8ae6-4efc-d07e-f69f3544b7ce"
      },
      "outputs": [
        {
          "ename": "NameError",
          "evalue": "name 'pd' is not defined",
          "output_type": "error",
          "traceback": [
            "\u001b[0;31m---------------------------------------------------------------------------\u001b[0m",
            "\u001b[0;31mNameError\u001b[0m                                 Traceback (most recent call last)",
            "Cell \u001b[0;32mIn[3], line 2\u001b[0m\n\u001b[1;32m      1\u001b[0m \u001b[38;5;66;03m# Lecture de la dataset\u001b[39;00m\n\u001b[0;32m----> 2\u001b[0m df \u001b[38;5;241m=\u001b[39m \u001b[43mpd\u001b[49m\u001b[38;5;241m.\u001b[39mread_csv(\u001b[38;5;124m'\u001b[39m\u001b[38;5;124mThursday-WorkingHours-Morning-WebAttacks.pcap_ISCX.csv\u001b[39m\u001b[38;5;124m'\u001b[39m, encoding\u001b[38;5;241m=\u001b[39m\u001b[38;5;124m'\u001b[39m\u001b[38;5;124mcp1252\u001b[39m\u001b[38;5;124m'\u001b[39m)\n",
            "\u001b[0;31mNameError\u001b[0m: name 'pd' is not defined"
          ]
        }
      ],
      "source": [
        "# Lecture de la dataset\n",
        "df = pd.read_csv('Thursday-WorkingHours-Morning-WebAttacks.pcap_ISCX.csv', encoding='cp1252')"
      ]
    },
    {
      "cell_type": "code",
      "execution_count": null,
      "metadata": {
        "id": "xn8q1M9s1Y-c"
      },
      "outputs": [],
      "source": [
        "# Suppression des lignes identiques \n",
        "df.columns = df.columns.str.strip()\n",
        "df = df.drop(columns=['Fwd Header Length.1'])"
      ]
    },
    {
      "cell_type": "code",
      "execution_count": null,
      "metadata": {
        "colab": {
          "base_uri": "https://localhost:8080/"
        },
        "id": "avdq0Q4b1c8s",
        "outputId": "a10c6414-64b5-4410-c074-a8ca95608674"
      },
      "outputs": [
        {
          "data": {
            "text/plain": [
              "array(['BENIGN', 'Web Attack – Brute Force', 'Web Attack – XSS',\n",
              "       'Web Attack – Sql Injection', nan], dtype=object)"
            ]
          },
          "execution_count": 5,
          "metadata": {},
          "output_type": "execute_result"
        }
      ],
      "source": [
        "df['Label'].unique()"
      ]
    },
    {
      "cell_type": "code",
      "execution_count": null,
      "metadata": {
        "colab": {
          "base_uri": "https://localhost:8080/"
        },
        "id": "GjRxBiWX1hCU",
        "outputId": "9acaeffc-9075-4eb7-ba79-bf4fd36fc31c"
      },
      "outputs": [
        {
          "data": {
            "text/plain": [
              "BENIGN                        168186\n",
              "Web Attack – Brute Force        1507\n",
              "Web Attack – XSS                 652\n",
              "Web Attack – Sql Injection        21\n",
              "Name: Label, dtype: int64"
            ]
          },
          "execution_count": 6,
          "metadata": {},
          "output_type": "execute_result"
        }
      ],
      "source": [
        "df['Label'].value_counts()"
      ]
    },
    {
      "cell_type": "code",
      "execution_count": null,
      "metadata": {
        "id": "GIQEn61g1pbG"
      },
      "outputs": [],
      "source": [
        "# Suppression des champs vides\n",
        "df = df.drop(df[pd.isnull(df['Flow ID'])].index)"
      ]
    },
    {
      "cell_type": "code",
      "execution_count": null,
      "metadata": {
        "id": "Wx0ApaPi1tJm"
      },
      "outputs": [],
      "source": [
        "# Remplacement des valeurs non numériques par des valeurs numériques\n",
        "df.replace('Infinity', -1, inplace=True)\n",
        "df[[\"Flow Bytes/s\", \"Flow Packets/s\"]] = df[[\"Flow Bytes/s\", \"Flow Packets/s\"]].apply(pd.to_numeric)"
      ]
    },
    {
      "cell_type": "code",
      "execution_count": null,
      "metadata": {
        "id": "9f03ckGt1vdG"
      },
      "outputs": [],
      "source": [
        "# Remplacement des valeurs NaN et les valeurs infinies par -1 \n",
        "df.replace([np.inf, -np.inf, np.nan], -1, inplace=True)"
      ]
    },
    {
      "cell_type": "code",
      "execution_count": null,
      "metadata": {
        "colab": {
          "base_uri": "https://localhost:8080/"
        },
        "id": "mq6HOzsI13iS",
        "outputId": "6e81e2a4-1747-412c-c0e5-5c87870d51e6"
      },
      "outputs": [
        {
          "data": {
            "text/plain": [
              "['Flow ID', 'Source IP', 'Destination IP', 'Timestamp']"
            ]
          },
          "execution_count": 10,
          "metadata": {},
          "output_type": "execute_result"
        }
      ],
      "source": [
        "# Conversion des caractères de chaîne en nombres\n",
        "string_features = list(df.select_dtypes(include=['object']).columns)\n",
        "string_features.remove('Label')\n",
        "string_features"
      ]
    },
    {
      "cell_type": "code",
      "execution_count": null,
      "metadata": {
        "id": "Lx6dOt1F18A0"
      },
      "outputs": [],
      "source": [
        "# Convertir des caractères de chaîne en chiffres\n",
        "le = preprocessing.LabelEncoder()\n",
        "df[string_features] = df[string_features].apply(lambda col: le.fit_transform(col))"
      ]
    },
    {
      "cell_type": "code",
      "execution_count": null,
      "metadata": {
        "colab": {
          "base_uri": "https://localhost:8080/"
        },
        "id": "4RL84ojN1_dc",
        "outputId": "cfe7bf7b-3c72-460e-9e9e-7ea78e3f89bc"
      },
      "outputs": [
        {
          "data": {
            "text/plain": [
              "168186"
            ]
          },
          "execution_count": 12,
          "metadata": {},
          "output_type": "execute_result"
        }
      ],
      "source": [
        "benign_total = len(df[df['Label'] == \"BENIGN\"])\n",
        "benign_total"
      ]
    },
    {
      "cell_type": "code",
      "execution_count": null,
      "metadata": {
        "colab": {
          "base_uri": "https://localhost:8080/"
        },
        "id": "TmTsTfhW2LF3",
        "outputId": "3dcaeaba-2b45-486d-fc02-fbfb90c67186"
      },
      "outputs": [
        {
          "data": {
            "text/plain": [
              "2180"
            ]
          },
          "execution_count": 13,
          "metadata": {},
          "output_type": "execute_result"
        }
      ],
      "source": [
        "attack_total = len(df[df['Label'] != \"BENIGN\"])\n",
        "attack_total"
      ]
    },
    {
      "cell_type": "code",
      "execution_count": null,
      "metadata": {
        "colab": {
          "base_uri": "https://localhost:8080/"
        },
        "id": "TH3zXUF52Otc",
        "outputId": "9b67d219-e7b9-4dfe-b78f-0b77df90cd16"
      },
      "outputs": [
        {
          "data": {
            "text/plain": [
              "BENIGN                        168186\n",
              "Web Attack – Brute Force        1507\n",
              "Web Attack – XSS                 652\n",
              "Web Attack – Sql Injection        21\n",
              "Name: Label, dtype: int64"
            ]
          },
          "execution_count": 14,
          "metadata": {},
          "output_type": "execute_result"
        }
      ],
      "source": [
        "# Le nombre des enregistrements \"normaux\" contre ceux contenant des attaques\n",
        "df.to_csv(\"web_attacks_unbalanced.csv\", index=False)\n",
        "df['Label'].value_counts()"
      ]
    },
    {
      "cell_type": "code",
      "execution_count": null,
      "metadata": {
        "colab": {
          "base_uri": "https://localhost:8080/"
        },
        "id": "4aiKxLq12UKE",
        "outputId": "062c8590-17f3-43e4-aea8-8a56a1573e9d"
      },
      "outputs": [
        {
          "name": "stdout",
          "output_type": "stream",
          "text": [
            "5086.666666666667 0.03326872232726466\n"
          ]
        }
      ],
      "source": [
        "# Le multiplicateur d'élargissement est utilisé pour obtenir exactement 70% de données \"normales\" (5087 enregistrements)\n",
        "enlargement = 1.1\n",
        "benign_included_max = attack_total / 30 * 70\n",
        "benign_inc_probability = (benign_included_max / benign_total) * enlargement\n",
        "print(benign_included_max, benign_inc_probability)"
      ]
    },
    {
      "cell_type": "code",
      "execution_count": null,
      "metadata": {
        "id": "NZjd4WZq2W3p"
      },
      "outputs": [],
      "source": [
        "# Copie des enregistrements de df vers df_balanced, sauvegarde de la dataset web_attacks_balanced.csv\n",
        "import random\n",
        "indexes = []\n",
        "benign_included_count = 0\n",
        "for index, row in df.iterrows():\n",
        "    if (row['Label'] != \"BENIGN\"):\n",
        "        indexes.append(index)\n",
        "    else:\n",
        "        # Copying with benign_inc_probability\n",
        "        if random.random() > benign_inc_probability: continue\n",
        "        # Have we achieved 70% (5087 records)?\n",
        "        if benign_included_count > benign_included_max: continue\n",
        "        benign_included_count += 1\n",
        "        indexes.append(index)\n",
        "df_balanced = df.loc[indexes]"
      ]
    },
    {
      "cell_type": "code",
      "execution_count": null,
      "metadata": {
        "colab": {
          "base_uri": "https://localhost:8080/",
          "height": 522
        },
        "id": "HAuh1VKz2axI",
        "outputId": "f49b1c33-8c7f-4d04-ad8a-7dc0027d4f19"
      },
      "outputs": [
        {
          "data": {
            "text/html": [
              "\n",
              "  <div id=\"df-ec5e3ca3-934f-4859-9068-9f7b7d832d71\">\n",
              "    <div class=\"colab-df-container\">\n",
              "      <div>\n",
              "<style scoped>\n",
              "    .dataframe tbody tr th:only-of-type {\n",
              "        vertical-align: middle;\n",
              "    }\n",
              "\n",
              "    .dataframe tbody tr th {\n",
              "        vertical-align: top;\n",
              "    }\n",
              "\n",
              "    .dataframe thead th {\n",
              "        text-align: right;\n",
              "    }\n",
              "</style>\n",
              "<table border=\"1\" class=\"dataframe\">\n",
              "  <thead>\n",
              "    <tr style=\"text-align: right;\">\n",
              "      <th></th>\n",
              "      <th>Flow ID</th>\n",
              "      <th>Source IP</th>\n",
              "      <th>Source Port</th>\n",
              "      <th>Destination IP</th>\n",
              "      <th>Destination Port</th>\n",
              "      <th>Protocol</th>\n",
              "      <th>Timestamp</th>\n",
              "      <th>Flow Duration</th>\n",
              "      <th>Total Fwd Packets</th>\n",
              "      <th>Total Backward Packets</th>\n",
              "      <th>...</th>\n",
              "      <th>min_seg_size_forward</th>\n",
              "      <th>Active Mean</th>\n",
              "      <th>Active Std</th>\n",
              "      <th>Active Max</th>\n",
              "      <th>Active Min</th>\n",
              "      <th>Idle Mean</th>\n",
              "      <th>Idle Std</th>\n",
              "      <th>Idle Max</th>\n",
              "      <th>Idle Min</th>\n",
              "      <th>Label</th>\n",
              "    </tr>\n",
              "  </thead>\n",
              "  <tbody>\n",
              "    <tr>\n",
              "      <th>73</th>\n",
              "      <td>61908</td>\n",
              "      <td>1261</td>\n",
              "      <td>50902.0</td>\n",
              "      <td>1599</td>\n",
              "      <td>53.0</td>\n",
              "      <td>17.0</td>\n",
              "      <td>181</td>\n",
              "      <td>169.0</td>\n",
              "      <td>2.0</td>\n",
              "      <td>2.0</td>\n",
              "      <td>...</td>\n",
              "      <td>32.0</td>\n",
              "      <td>0.0</td>\n",
              "      <td>0.0</td>\n",
              "      <td>0.0</td>\n",
              "      <td>0.0</td>\n",
              "      <td>0.0</td>\n",
              "      <td>0.0</td>\n",
              "      <td>0.0</td>\n",
              "      <td>0.0</td>\n",
              "      <td>BENIGN</td>\n",
              "    </tr>\n",
              "    <tr>\n",
              "      <th>74</th>\n",
              "      <td>57857</td>\n",
              "      <td>1261</td>\n",
              "      <td>32798.0</td>\n",
              "      <td>1599</td>\n",
              "      <td>389.0</td>\n",
              "      <td>6.0</td>\n",
              "      <td>181</td>\n",
              "      <td>396.0</td>\n",
              "      <td>10.0</td>\n",
              "      <td>4.0</td>\n",
              "      <td>...</td>\n",
              "      <td>32.0</td>\n",
              "      <td>0.0</td>\n",
              "      <td>0.0</td>\n",
              "      <td>0.0</td>\n",
              "      <td>0.0</td>\n",
              "      <td>0.0</td>\n",
              "      <td>0.0</td>\n",
              "      <td>0.0</td>\n",
              "      <td>0.0</td>\n",
              "      <td>BENIGN</td>\n",
              "    </tr>\n",
              "    <tr>\n",
              "      <th>125</th>\n",
              "      <td>62866</td>\n",
              "      <td>1261</td>\n",
              "      <td>6077.0</td>\n",
              "      <td>1599</td>\n",
              "      <td>53.0</td>\n",
              "      <td>17.0</td>\n",
              "      <td>181</td>\n",
              "      <td>199.0</td>\n",
              "      <td>2.0</td>\n",
              "      <td>2.0</td>\n",
              "      <td>...</td>\n",
              "      <td>32.0</td>\n",
              "      <td>0.0</td>\n",
              "      <td>0.0</td>\n",
              "      <td>0.0</td>\n",
              "      <td>0.0</td>\n",
              "      <td>0.0</td>\n",
              "      <td>0.0</td>\n",
              "      <td>0.0</td>\n",
              "      <td>0.0</td>\n",
              "      <td>BENIGN</td>\n",
              "    </tr>\n",
              "    <tr>\n",
              "      <th>175</th>\n",
              "      <td>69428</td>\n",
              "      <td>1265</td>\n",
              "      <td>10515.0</td>\n",
              "      <td>1599</td>\n",
              "      <td>53.0</td>\n",
              "      <td>17.0</td>\n",
              "      <td>181</td>\n",
              "      <td>169.0</td>\n",
              "      <td>2.0</td>\n",
              "      <td>2.0</td>\n",
              "      <td>...</td>\n",
              "      <td>32.0</td>\n",
              "      <td>0.0</td>\n",
              "      <td>0.0</td>\n",
              "      <td>0.0</td>\n",
              "      <td>0.0</td>\n",
              "      <td>0.0</td>\n",
              "      <td>0.0</td>\n",
              "      <td>0.0</td>\n",
              "      <td>0.0</td>\n",
              "      <td>BENIGN</td>\n",
              "    </tr>\n",
              "    <tr>\n",
              "      <th>211</th>\n",
              "      <td>34618</td>\n",
              "      <td>1256</td>\n",
              "      <td>30202.0</td>\n",
              "      <td>1599</td>\n",
              "      <td>53.0</td>\n",
              "      <td>17.0</td>\n",
              "      <td>181</td>\n",
              "      <td>201.0</td>\n",
              "      <td>2.0</td>\n",
              "      <td>2.0</td>\n",
              "      <td>...</td>\n",
              "      <td>32.0</td>\n",
              "      <td>0.0</td>\n",
              "      <td>0.0</td>\n",
              "      <td>0.0</td>\n",
              "      <td>0.0</td>\n",
              "      <td>0.0</td>\n",
              "      <td>0.0</td>\n",
              "      <td>0.0</td>\n",
              "      <td>0.0</td>\n",
              "      <td>BENIGN</td>\n",
              "    </tr>\n",
              "    <tr>\n",
              "      <th>...</th>\n",
              "      <td>...</td>\n",
              "      <td>...</td>\n",
              "      <td>...</td>\n",
              "      <td>...</td>\n",
              "      <td>...</td>\n",
              "      <td>...</td>\n",
              "      <td>...</td>\n",
              "      <td>...</td>\n",
              "      <td>...</td>\n",
              "      <td>...</td>\n",
              "      <td>...</td>\n",
              "      <td>...</td>\n",
              "      <td>...</td>\n",
              "      <td>...</td>\n",
              "      <td>...</td>\n",
              "      <td>...</td>\n",
              "      <td>...</td>\n",
              "      <td>...</td>\n",
              "      <td>...</td>\n",
              "      <td>...</td>\n",
              "      <td>...</td>\n",
              "    </tr>\n",
              "    <tr>\n",
              "      <th>155225</th>\n",
              "      <td>15994</td>\n",
              "      <td>1265</td>\n",
              "      <td>22.0</td>\n",
              "      <td>1591</td>\n",
              "      <td>59358.0</td>\n",
              "      <td>6.0</td>\n",
              "      <td>125</td>\n",
              "      <td>81.0</td>\n",
              "      <td>1.0</td>\n",
              "      <td>2.0</td>\n",
              "      <td>...</td>\n",
              "      <td>32.0</td>\n",
              "      <td>0.0</td>\n",
              "      <td>0.0</td>\n",
              "      <td>0.0</td>\n",
              "      <td>0.0</td>\n",
              "      <td>0.0</td>\n",
              "      <td>0.0</td>\n",
              "      <td>0.0</td>\n",
              "      <td>0.0</td>\n",
              "      <td>BENIGN</td>\n",
              "    </tr>\n",
              "    <tr>\n",
              "      <th>155231</th>\n",
              "      <td>87891</td>\n",
              "      <td>1660</td>\n",
              "      <td>443.0</td>\n",
              "      <td>1604</td>\n",
              "      <td>4593.0</td>\n",
              "      <td>6.0</td>\n",
              "      <td>125</td>\n",
              "      <td>126763.0</td>\n",
              "      <td>2.0</td>\n",
              "      <td>1.0</td>\n",
              "      <td>...</td>\n",
              "      <td>20.0</td>\n",
              "      <td>0.0</td>\n",
              "      <td>0.0</td>\n",
              "      <td>0.0</td>\n",
              "      <td>0.0</td>\n",
              "      <td>0.0</td>\n",
              "      <td>0.0</td>\n",
              "      <td>0.0</td>\n",
              "      <td>0.0</td>\n",
              "      <td>BENIGN</td>\n",
              "    </tr>\n",
              "    <tr>\n",
              "      <th>155238</th>\n",
              "      <td>7926</td>\n",
              "      <td>923</td>\n",
              "      <td>443.0</td>\n",
              "      <td>1600</td>\n",
              "      <td>53011.0</td>\n",
              "      <td>6.0</td>\n",
              "      <td>125</td>\n",
              "      <td>3.0</td>\n",
              "      <td>2.0</td>\n",
              "      <td>0.0</td>\n",
              "      <td>...</td>\n",
              "      <td>20.0</td>\n",
              "      <td>0.0</td>\n",
              "      <td>0.0</td>\n",
              "      <td>0.0</td>\n",
              "      <td>0.0</td>\n",
              "      <td>0.0</td>\n",
              "      <td>0.0</td>\n",
              "      <td>0.0</td>\n",
              "      <td>0.0</td>\n",
              "      <td>BENIGN</td>\n",
              "    </tr>\n",
              "    <tr>\n",
              "      <th>155241</th>\n",
              "      <td>72636</td>\n",
              "      <td>1267</td>\n",
              "      <td>53770.0</td>\n",
              "      <td>1599</td>\n",
              "      <td>53.0</td>\n",
              "      <td>17.0</td>\n",
              "      <td>125</td>\n",
              "      <td>178.0</td>\n",
              "      <td>2.0</td>\n",
              "      <td>2.0</td>\n",
              "      <td>...</td>\n",
              "      <td>32.0</td>\n",
              "      <td>0.0</td>\n",
              "      <td>0.0</td>\n",
              "      <td>0.0</td>\n",
              "      <td>0.0</td>\n",
              "      <td>0.0</td>\n",
              "      <td>0.0</td>\n",
              "      <td>0.0</td>\n",
              "      <td>0.0</td>\n",
              "      <td>BENIGN</td>\n",
              "    </tr>\n",
              "    <tr>\n",
              "      <th>155271</th>\n",
              "      <td>30617</td>\n",
              "      <td>1987</td>\n",
              "      <td>443.0</td>\n",
              "      <td>1596</td>\n",
              "      <td>32847.0</td>\n",
              "      <td>6.0</td>\n",
              "      <td>126</td>\n",
              "      <td>55.0</td>\n",
              "      <td>2.0</td>\n",
              "      <td>1.0</td>\n",
              "      <td>...</td>\n",
              "      <td>32.0</td>\n",
              "      <td>0.0</td>\n",
              "      <td>0.0</td>\n",
              "      <td>0.0</td>\n",
              "      <td>0.0</td>\n",
              "      <td>0.0</td>\n",
              "      <td>0.0</td>\n",
              "      <td>0.0</td>\n",
              "      <td>0.0</td>\n",
              "      <td>BENIGN</td>\n",
              "    </tr>\n",
              "  </tbody>\n",
              "</table>\n",
              "<p>7267 rows × 84 columns</p>\n",
              "</div>\n",
              "      <button class=\"colab-df-convert\" onclick=\"convertToInteractive('df-ec5e3ca3-934f-4859-9068-9f7b7d832d71')\"\n",
              "              title=\"Convert this dataframe to an interactive table.\"\n",
              "              style=\"display:none;\">\n",
              "        \n",
              "  <svg xmlns=\"http://www.w3.org/2000/svg\" height=\"24px\"viewBox=\"0 0 24 24\"\n",
              "       width=\"24px\">\n",
              "    <path d=\"M0 0h24v24H0V0z\" fill=\"none\"/>\n",
              "    <path d=\"M18.56 5.44l.94 2.06.94-2.06 2.06-.94-2.06-.94-.94-2.06-.94 2.06-2.06.94zm-11 1L8.5 8.5l.94-2.06 2.06-.94-2.06-.94L8.5 2.5l-.94 2.06-2.06.94zm10 10l.94 2.06.94-2.06 2.06-.94-2.06-.94-.94-2.06-.94 2.06-2.06.94z\"/><path d=\"M17.41 7.96l-1.37-1.37c-.4-.4-.92-.59-1.43-.59-.52 0-1.04.2-1.43.59L10.3 9.45l-7.72 7.72c-.78.78-.78 2.05 0 2.83L4 21.41c.39.39.9.59 1.41.59.51 0 1.02-.2 1.41-.59l7.78-7.78 2.81-2.81c.8-.78.8-2.07 0-2.86zM5.41 20L4 18.59l7.72-7.72 1.47 1.35L5.41 20z\"/>\n",
              "  </svg>\n",
              "      </button>\n",
              "      \n",
              "  <style>\n",
              "    .colab-df-container {\n",
              "      display:flex;\n",
              "      flex-wrap:wrap;\n",
              "      gap: 12px;\n",
              "    }\n",
              "\n",
              "    .colab-df-convert {\n",
              "      background-color: #E8F0FE;\n",
              "      border: none;\n",
              "      border-radius: 50%;\n",
              "      cursor: pointer;\n",
              "      display: none;\n",
              "      fill: #1967D2;\n",
              "      height: 32px;\n",
              "      padding: 0 0 0 0;\n",
              "      width: 32px;\n",
              "    }\n",
              "\n",
              "    .colab-df-convert:hover {\n",
              "      background-color: #E2EBFA;\n",
              "      box-shadow: 0px 1px 2px rgba(60, 64, 67, 0.3), 0px 1px 3px 1px rgba(60, 64, 67, 0.15);\n",
              "      fill: #174EA6;\n",
              "    }\n",
              "\n",
              "    [theme=dark] .colab-df-convert {\n",
              "      background-color: #3B4455;\n",
              "      fill: #D2E3FC;\n",
              "    }\n",
              "\n",
              "    [theme=dark] .colab-df-convert:hover {\n",
              "      background-color: #434B5C;\n",
              "      box-shadow: 0px 1px 3px 1px rgba(0, 0, 0, 0.15);\n",
              "      filter: drop-shadow(0px 1px 2px rgba(0, 0, 0, 0.3));\n",
              "      fill: #FFFFFF;\n",
              "    }\n",
              "  </style>\n",
              "\n",
              "      <script>\n",
              "        const buttonEl =\n",
              "          document.querySelector('#df-ec5e3ca3-934f-4859-9068-9f7b7d832d71 button.colab-df-convert');\n",
              "        buttonEl.style.display =\n",
              "          google.colab.kernel.accessAllowed ? 'block' : 'none';\n",
              "\n",
              "        async function convertToInteractive(key) {\n",
              "          const element = document.querySelector('#df-ec5e3ca3-934f-4859-9068-9f7b7d832d71');\n",
              "          const dataTable =\n",
              "            await google.colab.kernel.invokeFunction('convertToInteractive',\n",
              "                                                     [key], {});\n",
              "          if (!dataTable) return;\n",
              "\n",
              "          const docLinkHtml = 'Like what you see? Visit the ' +\n",
              "            '<a target=\"_blank\" href=https://colab.research.google.com/notebooks/data_table.ipynb>data table notebook</a>'\n",
              "            + ' to learn more about interactive tables.';\n",
              "          element.innerHTML = '';\n",
              "          dataTable['output_type'] = 'display_data';\n",
              "          await google.colab.output.renderOutput(dataTable, element);\n",
              "          const docLink = document.createElement('div');\n",
              "          docLink.innerHTML = docLinkHtml;\n",
              "          element.appendChild(docLink);\n",
              "        }\n",
              "      </script>\n",
              "    </div>\n",
              "  </div>\n",
              "  "
            ],
            "text/plain": [
              "        Flow ID  Source IP  Source Port  Destination IP  Destination Port  \\\n",
              "73        61908       1261      50902.0            1599              53.0   \n",
              "74        57857       1261      32798.0            1599             389.0   \n",
              "125       62866       1261       6077.0            1599              53.0   \n",
              "175       69428       1265      10515.0            1599              53.0   \n",
              "211       34618       1256      30202.0            1599              53.0   \n",
              "...         ...        ...          ...             ...               ...   \n",
              "155225    15994       1265         22.0            1591           59358.0   \n",
              "155231    87891       1660        443.0            1604            4593.0   \n",
              "155238     7926        923        443.0            1600           53011.0   \n",
              "155241    72636       1267      53770.0            1599              53.0   \n",
              "155271    30617       1987        443.0            1596           32847.0   \n",
              "\n",
              "        Protocol  Timestamp  Flow Duration  Total Fwd Packets  \\\n",
              "73          17.0        181          169.0                2.0   \n",
              "74           6.0        181          396.0               10.0   \n",
              "125         17.0        181          199.0                2.0   \n",
              "175         17.0        181          169.0                2.0   \n",
              "211         17.0        181          201.0                2.0   \n",
              "...          ...        ...            ...                ...   \n",
              "155225       6.0        125           81.0                1.0   \n",
              "155231       6.0        125       126763.0                2.0   \n",
              "155238       6.0        125            3.0                2.0   \n",
              "155241      17.0        125          178.0                2.0   \n",
              "155271       6.0        126           55.0                2.0   \n",
              "\n",
              "        Total Backward Packets  ...  min_seg_size_forward  Active Mean  \\\n",
              "73                         2.0  ...                  32.0          0.0   \n",
              "74                         4.0  ...                  32.0          0.0   \n",
              "125                        2.0  ...                  32.0          0.0   \n",
              "175                        2.0  ...                  32.0          0.0   \n",
              "211                        2.0  ...                  32.0          0.0   \n",
              "...                        ...  ...                   ...          ...   \n",
              "155225                     2.0  ...                  32.0          0.0   \n",
              "155231                     1.0  ...                  20.0          0.0   \n",
              "155238                     0.0  ...                  20.0          0.0   \n",
              "155241                     2.0  ...                  32.0          0.0   \n",
              "155271                     1.0  ...                  32.0          0.0   \n",
              "\n",
              "        Active Std  Active Max  Active Min  Idle Mean  Idle Std  Idle Max  \\\n",
              "73             0.0         0.0         0.0        0.0       0.0       0.0   \n",
              "74             0.0         0.0         0.0        0.0       0.0       0.0   \n",
              "125            0.0         0.0         0.0        0.0       0.0       0.0   \n",
              "175            0.0         0.0         0.0        0.0       0.0       0.0   \n",
              "211            0.0         0.0         0.0        0.0       0.0       0.0   \n",
              "...            ...         ...         ...        ...       ...       ...   \n",
              "155225         0.0         0.0         0.0        0.0       0.0       0.0   \n",
              "155231         0.0         0.0         0.0        0.0       0.0       0.0   \n",
              "155238         0.0         0.0         0.0        0.0       0.0       0.0   \n",
              "155241         0.0         0.0         0.0        0.0       0.0       0.0   \n",
              "155271         0.0         0.0         0.0        0.0       0.0       0.0   \n",
              "\n",
              "        Idle Min   Label  \n",
              "73           0.0  BENIGN  \n",
              "74           0.0  BENIGN  \n",
              "125          0.0  BENIGN  \n",
              "175          0.0  BENIGN  \n",
              "211          0.0  BENIGN  \n",
              "...          ...     ...  \n",
              "155225       0.0  BENIGN  \n",
              "155231       0.0  BENIGN  \n",
              "155238       0.0  BENIGN  \n",
              "155241       0.0  BENIGN  \n",
              "155271       0.0  BENIGN  \n",
              "\n",
              "[7267 rows x 84 columns]"
            ]
          },
          "execution_count": 17,
          "metadata": {},
          "output_type": "execute_result"
        }
      ],
      "source": [
        "# Visualisation\n",
        "df_balanced"
      ]
    },
    {
      "cell_type": "code",
      "execution_count": null,
      "metadata": {
        "id": "jD7o2_Di2t1X"
      },
      "outputs": [],
      "source": [
        "df_balanced.to_csv(\"web_attacks_balanced.csv\", index=False)"
      ]
    },
    {
      "cell_type": "code",
      "execution_count": null,
      "metadata": {
        "id": "j0lebY6z2w-r"
      },
      "outputs": [],
      "source": [
        "df = pd.read_csv('web_attacks_balanced.csv')"
      ]
    },
    {
      "cell_type": "code",
      "execution_count": null,
      "metadata": {
        "id": "oarxRiPf2zpD"
      },
      "outputs": [],
      "source": [
        "# Normal (BENIGN) = 0, Attaque = 1\n",
        "df['Label'] = df['Label'].apply(lambda x: 0 if x == 'BENIGN' else 1)"
      ]
    },
    {
      "cell_type": "code",
      "execution_count": null,
      "metadata": {
        "colab": {
          "base_uri": "https://localhost:8080/"
        },
        "id": "T10V1c9A22Ln",
        "outputId": "d827c60c-df61-4024-a66b-1e27cf6dc246"
      },
      "outputs": [
        {
          "data": {
            "text/plain": [
              "(7267, 77)"
            ]
          },
          "execution_count": 21,
          "metadata": {},
          "output_type": "execute_result"
        }
      ],
      "source": [
        "# Exclusion des caractéristiques inutiles\n",
        "excluded = ['Flow ID', 'Source IP', 'Source Port', 'Destination IP', 'Destination Port', 'Protocol', 'Timestamp']\n",
        "df = df.drop(columns=excluded, errors='ignore')\n",
        "df.shape"
      ]
    },
    {
      "cell_type": "code",
      "execution_count": null,
      "metadata": {
        "id": "iOX6NX-A3AGT"
      },
      "outputs": [],
      "source": [
        "excluded2 = ['Init_Win_bytes_backward', 'Init_Win_bytes_forward']\n",
        "df = df.drop(columns=excluded2, errors='ignore')"
      ]
    },
    {
      "cell_type": "code",
      "execution_count": null,
      "metadata": {
        "id": "PwY4-6vQ4DFK"
      },
      "outputs": [],
      "source": [
        "# Importation des modules et librairies nécessaires\n",
        "import os\n",
        "import cv2\n",
        "import math\n",
        "import random\n",
        "import shutil\n",
        "from sklearn.preprocessing import QuantileTransformer\n",
        "from PIL import Image\n",
        "import warnings\n",
        "warnings.filterwarnings(\"ignore\")"
      ]
    },
    {
      "cell_type": "code",
      "execution_count": null,
      "metadata": {
        "id": "HAkuXrnO4lTy"
      },
      "outputs": [],
      "source": [
        "# Transformation des données en format numérique et leurs normalisation entre 0 et 1\n",
        "numeric_features = df.dtypes[df.dtypes != 'object'].index\n",
        "scaler = QuantileTransformer() \n",
        "df[numeric_features] = scaler.fit_transform(df[numeric_features])"
      ]
    },
    {
      "cell_type": "code",
      "execution_count": null,
      "metadata": {
        "id": "h3kVA82J5FJn"
      },
      "outputs": [],
      "source": [
        "# Normalisation des valeurs entre 0 et 255\n",
        "df[numeric_features] = df[numeric_features].apply(\n",
        "    lambda x: (x*255))"
      ]
    },
    {
      "cell_type": "code",
      "execution_count": null,
      "metadata": {
        "colab": {
          "base_uri": "https://localhost:8080/"
        },
        "id": "syR-MghN5LE8",
        "outputId": "279df264-98d3-411c-e6be-05ef25b99a8b"
      },
      "outputs": [
        {
          "data": {
            "text/plain": [
              "0.0      5087\n",
              "255.0    2180\n",
              "Name: Label, dtype: int64"
            ]
          },
          "execution_count": 28,
          "metadata": {},
          "output_type": "execute_result"
        }
      ],
      "source": [
        "df['Label'].value_counts()"
      ]
    },
    {
      "cell_type": "code",
      "execution_count": null,
      "metadata": {
        "colab": {
          "base_uri": "https://localhost:8080/",
          "height": 540
        },
        "id": "qMsYh-7t5wNA",
        "outputId": "aa2fc283-b865-46ae-ea00-b2cdfb5963f3"
      },
      "outputs": [
        {
          "data": {
            "text/html": [
              "\n",
              "  <div id=\"df-78884db7-67ba-495f-8a3a-d7912224fc8a\">\n",
              "    <div class=\"colab-df-container\">\n",
              "      <div>\n",
              "<style scoped>\n",
              "    .dataframe tbody tr th:only-of-type {\n",
              "        vertical-align: middle;\n",
              "    }\n",
              "\n",
              "    .dataframe tbody tr th {\n",
              "        vertical-align: top;\n",
              "    }\n",
              "\n",
              "    .dataframe thead th {\n",
              "        text-align: right;\n",
              "    }\n",
              "</style>\n",
              "<table border=\"1\" class=\"dataframe\">\n",
              "  <thead>\n",
              "    <tr style=\"text-align: right;\">\n",
              "      <th></th>\n",
              "      <th>Flow Duration</th>\n",
              "      <th>Total Fwd Packets</th>\n",
              "      <th>Total Backward Packets</th>\n",
              "      <th>Total Length of Fwd Packets</th>\n",
              "      <th>Total Length of Bwd Packets</th>\n",
              "      <th>Fwd Packet Length Max</th>\n",
              "      <th>Fwd Packet Length Min</th>\n",
              "      <th>Fwd Packet Length Mean</th>\n",
              "      <th>Fwd Packet Length Std</th>\n",
              "      <th>Bwd Packet Length Max</th>\n",
              "      <th>...</th>\n",
              "      <th>act_data_pkt_fwd</th>\n",
              "      <th>min_seg_size_forward</th>\n",
              "      <th>Active Mean</th>\n",
              "      <th>Active Std</th>\n",
              "      <th>Active Max</th>\n",
              "      <th>Active Min</th>\n",
              "      <th>Idle Mean</th>\n",
              "      <th>Idle Std</th>\n",
              "      <th>Idle Max</th>\n",
              "      <th>Idle Min</th>\n",
              "    </tr>\n",
              "  </thead>\n",
              "  <tbody>\n",
              "    <tr>\n",
              "      <th>0</th>\n",
              "      <td>41.351351</td>\n",
              "      <td>88.190691</td>\n",
              "      <td>175.998498</td>\n",
              "      <td>182.507508</td>\n",
              "      <td>175.998498</td>\n",
              "      <td>167.575075</td>\n",
              "      <td>217.349850</td>\n",
              "      <td>180.082583</td>\n",
              "      <td>0.000000</td>\n",
              "      <td>162.214715</td>\n",
              "      <td>...</td>\n",
              "      <td>161.576577</td>\n",
              "      <td>174.594595</td>\n",
              "      <td>0.0</td>\n",
              "      <td>0.0</td>\n",
              "      <td>0.0</td>\n",
              "      <td>0.0</td>\n",
              "      <td>0.0</td>\n",
              "      <td>0.0</td>\n",
              "      <td>0.0</td>\n",
              "      <td>0.0</td>\n",
              "    </tr>\n",
              "    <tr>\n",
              "      <th>1</th>\n",
              "      <td>66.576750</td>\n",
              "      <td>226.411411</td>\n",
              "      <td>212.244745</td>\n",
              "      <td>205.017991</td>\n",
              "      <td>202.672673</td>\n",
              "      <td>208.160661</td>\n",
              "      <td>0.000000</td>\n",
              "      <td>116.361353</td>\n",
              "      <td>209.567284</td>\n",
              "      <td>198.716216</td>\n",
              "      <td>...</td>\n",
              "      <td>212.500000</td>\n",
              "      <td>174.594595</td>\n",
              "      <td>0.0</td>\n",
              "      <td>0.0</td>\n",
              "      <td>0.0</td>\n",
              "      <td>0.0</td>\n",
              "      <td>0.0</td>\n",
              "      <td>0.0</td>\n",
              "      <td>0.0</td>\n",
              "      <td>0.0</td>\n",
              "    </tr>\n",
              "    <tr>\n",
              "      <th>2</th>\n",
              "      <td>51.306306</td>\n",
              "      <td>88.190691</td>\n",
              "      <td>175.998498</td>\n",
              "      <td>182.507508</td>\n",
              "      <td>175.998498</td>\n",
              "      <td>167.575075</td>\n",
              "      <td>217.349850</td>\n",
              "      <td>180.082583</td>\n",
              "      <td>0.000000</td>\n",
              "      <td>162.214715</td>\n",
              "      <td>...</td>\n",
              "      <td>161.576577</td>\n",
              "      <td>174.594595</td>\n",
              "      <td>0.0</td>\n",
              "      <td>0.0</td>\n",
              "      <td>0.0</td>\n",
              "      <td>0.0</td>\n",
              "      <td>0.0</td>\n",
              "      <td>0.0</td>\n",
              "      <td>0.0</td>\n",
              "      <td>0.0</td>\n",
              "    </tr>\n",
              "    <tr>\n",
              "      <th>3</th>\n",
              "      <td>41.351351</td>\n",
              "      <td>88.190691</td>\n",
              "      <td>175.998498</td>\n",
              "      <td>182.507508</td>\n",
              "      <td>175.998498</td>\n",
              "      <td>167.575075</td>\n",
              "      <td>217.349850</td>\n",
              "      <td>180.082583</td>\n",
              "      <td>0.000000</td>\n",
              "      <td>162.214715</td>\n",
              "      <td>...</td>\n",
              "      <td>161.576577</td>\n",
              "      <td>174.594595</td>\n",
              "      <td>0.0</td>\n",
              "      <td>0.0</td>\n",
              "      <td>0.0</td>\n",
              "      <td>0.0</td>\n",
              "      <td>0.0</td>\n",
              "      <td>0.0</td>\n",
              "      <td>0.0</td>\n",
              "      <td>0.0</td>\n",
              "    </tr>\n",
              "    <tr>\n",
              "      <th>4</th>\n",
              "      <td>52.327327</td>\n",
              "      <td>88.190691</td>\n",
              "      <td>175.998498</td>\n",
              "      <td>182.507508</td>\n",
              "      <td>175.998498</td>\n",
              "      <td>167.575075</td>\n",
              "      <td>217.349850</td>\n",
              "      <td>180.082583</td>\n",
              "      <td>0.000000</td>\n",
              "      <td>162.214715</td>\n",
              "      <td>...</td>\n",
              "      <td>161.576577</td>\n",
              "      <td>174.594595</td>\n",
              "      <td>0.0</td>\n",
              "      <td>0.0</td>\n",
              "      <td>0.0</td>\n",
              "      <td>0.0</td>\n",
              "      <td>0.0</td>\n",
              "      <td>0.0</td>\n",
              "      <td>0.0</td>\n",
              "      <td>0.0</td>\n",
              "    </tr>\n",
              "    <tr>\n",
              "      <th>...</th>\n",
              "      <td>...</td>\n",
              "      <td>...</td>\n",
              "      <td>...</td>\n",
              "      <td>...</td>\n",
              "      <td>...</td>\n",
              "      <td>...</td>\n",
              "      <td>...</td>\n",
              "      <td>...</td>\n",
              "      <td>...</td>\n",
              "      <td>...</td>\n",
              "      <td>...</td>\n",
              "      <td>...</td>\n",
              "      <td>...</td>\n",
              "      <td>...</td>\n",
              "      <td>...</td>\n",
              "      <td>...</td>\n",
              "      <td>...</td>\n",
              "      <td>...</td>\n",
              "      <td>...</td>\n",
              "      <td>...</td>\n",
              "      <td>...</td>\n",
              "    </tr>\n",
              "    <tr>\n",
              "      <th>7262</th>\n",
              "      <td>27.184685</td>\n",
              "      <td>0.000000</td>\n",
              "      <td>175.998498</td>\n",
              "      <td>0.000000</td>\n",
              "      <td>0.000000</td>\n",
              "      <td>0.000000</td>\n",
              "      <td>0.000000</td>\n",
              "      <td>0.000000</td>\n",
              "      <td>0.000000</td>\n",
              "      <td>0.000000</td>\n",
              "      <td>...</td>\n",
              "      <td>0.000000</td>\n",
              "      <td>174.594595</td>\n",
              "      <td>0.0</td>\n",
              "      <td>0.0</td>\n",
              "      <td>0.0</td>\n",
              "      <td>0.0</td>\n",
              "      <td>0.0</td>\n",
              "      <td>0.0</td>\n",
              "      <td>0.0</td>\n",
              "      <td>0.0</td>\n",
              "    </tr>\n",
              "    <tr>\n",
              "      <th>7263</th>\n",
              "      <td>128.284597</td>\n",
              "      <td>88.190691</td>\n",
              "      <td>83.978979</td>\n",
              "      <td>103.633634</td>\n",
              "      <td>113.078078</td>\n",
              "      <td>99.039039</td>\n",
              "      <td>152.770270</td>\n",
              "      <td>100.825826</td>\n",
              "      <td>0.000000</td>\n",
              "      <td>113.716216</td>\n",
              "      <td>...</td>\n",
              "      <td>161.576577</td>\n",
              "      <td>49.009009</td>\n",
              "      <td>0.0</td>\n",
              "      <td>0.0</td>\n",
              "      <td>0.0</td>\n",
              "      <td>0.0</td>\n",
              "      <td>0.0</td>\n",
              "      <td>0.0</td>\n",
              "      <td>0.0</td>\n",
              "      <td>0.0</td>\n",
              "    </tr>\n",
              "    <tr>\n",
              "      <th>7264</th>\n",
              "      <td>3.828829</td>\n",
              "      <td>88.190691</td>\n",
              "      <td>0.000000</td>\n",
              "      <td>103.633634</td>\n",
              "      <td>0.000000</td>\n",
              "      <td>99.039039</td>\n",
              "      <td>152.770270</td>\n",
              "      <td>100.825826</td>\n",
              "      <td>0.000000</td>\n",
              "      <td>0.000000</td>\n",
              "      <td>...</td>\n",
              "      <td>161.576577</td>\n",
              "      <td>49.009009</td>\n",
              "      <td>0.0</td>\n",
              "      <td>0.0</td>\n",
              "      <td>0.0</td>\n",
              "      <td>0.0</td>\n",
              "      <td>0.0</td>\n",
              "      <td>0.0</td>\n",
              "      <td>0.0</td>\n",
              "      <td>0.0</td>\n",
              "    </tr>\n",
              "    <tr>\n",
              "      <th>7265</th>\n",
              "      <td>44.414414</td>\n",
              "      <td>88.190691</td>\n",
              "      <td>175.998498</td>\n",
              "      <td>164.384384</td>\n",
              "      <td>203.055556</td>\n",
              "      <td>141.539039</td>\n",
              "      <td>191.951952</td>\n",
              "      <td>151.493994</td>\n",
              "      <td>0.000000</td>\n",
              "      <td>199.099099</td>\n",
              "      <td>...</td>\n",
              "      <td>161.576577</td>\n",
              "      <td>174.594595</td>\n",
              "      <td>0.0</td>\n",
              "      <td>0.0</td>\n",
              "      <td>0.0</td>\n",
              "      <td>0.0</td>\n",
              "      <td>0.0</td>\n",
              "      <td>0.0</td>\n",
              "      <td>0.0</td>\n",
              "      <td>0.0</td>\n",
              "    </tr>\n",
              "    <tr>\n",
              "      <th>7266</th>\n",
              "      <td>20.803303</td>\n",
              "      <td>88.190691</td>\n",
              "      <td>83.978979</td>\n",
              "      <td>112.057057</td>\n",
              "      <td>113.078078</td>\n",
              "      <td>122.012012</td>\n",
              "      <td>0.000000</td>\n",
              "      <td>115.247748</td>\n",
              "      <td>206.756757</td>\n",
              "      <td>113.716216</td>\n",
              "      <td>...</td>\n",
              "      <td>0.000000</td>\n",
              "      <td>174.594595</td>\n",
              "      <td>0.0</td>\n",
              "      <td>0.0</td>\n",
              "      <td>0.0</td>\n",
              "      <td>0.0</td>\n",
              "      <td>0.0</td>\n",
              "      <td>0.0</td>\n",
              "      <td>0.0</td>\n",
              "      <td>0.0</td>\n",
              "    </tr>\n",
              "  </tbody>\n",
              "</table>\n",
              "<p>5087 rows × 74 columns</p>\n",
              "</div>\n",
              "      <button class=\"colab-df-convert\" onclick=\"convertToInteractive('df-78884db7-67ba-495f-8a3a-d7912224fc8a')\"\n",
              "              title=\"Convert this dataframe to an interactive table.\"\n",
              "              style=\"display:none;\">\n",
              "        \n",
              "  <svg xmlns=\"http://www.w3.org/2000/svg\" height=\"24px\"viewBox=\"0 0 24 24\"\n",
              "       width=\"24px\">\n",
              "    <path d=\"M0 0h24v24H0V0z\" fill=\"none\"/>\n",
              "    <path d=\"M18.56 5.44l.94 2.06.94-2.06 2.06-.94-2.06-.94-.94-2.06-.94 2.06-2.06.94zm-11 1L8.5 8.5l.94-2.06 2.06-.94-2.06-.94L8.5 2.5l-.94 2.06-2.06.94zm10 10l.94 2.06.94-2.06 2.06-.94-2.06-.94-.94-2.06-.94 2.06-2.06.94z\"/><path d=\"M17.41 7.96l-1.37-1.37c-.4-.4-.92-.59-1.43-.59-.52 0-1.04.2-1.43.59L10.3 9.45l-7.72 7.72c-.78.78-.78 2.05 0 2.83L4 21.41c.39.39.9.59 1.41.59.51 0 1.02-.2 1.41-.59l7.78-7.78 2.81-2.81c.8-.78.8-2.07 0-2.86zM5.41 20L4 18.59l7.72-7.72 1.47 1.35L5.41 20z\"/>\n",
              "  </svg>\n",
              "      </button>\n",
              "      \n",
              "  <style>\n",
              "    .colab-df-container {\n",
              "      display:flex;\n",
              "      flex-wrap:wrap;\n",
              "      gap: 12px;\n",
              "    }\n",
              "\n",
              "    .colab-df-convert {\n",
              "      background-color: #E8F0FE;\n",
              "      border: none;\n",
              "      border-radius: 50%;\n",
              "      cursor: pointer;\n",
              "      display: none;\n",
              "      fill: #1967D2;\n",
              "      height: 32px;\n",
              "      padding: 0 0 0 0;\n",
              "      width: 32px;\n",
              "    }\n",
              "\n",
              "    .colab-df-convert:hover {\n",
              "      background-color: #E2EBFA;\n",
              "      box-shadow: 0px 1px 2px rgba(60, 64, 67, 0.3), 0px 1px 3px 1px rgba(60, 64, 67, 0.15);\n",
              "      fill: #174EA6;\n",
              "    }\n",
              "\n",
              "    [theme=dark] .colab-df-convert {\n",
              "      background-color: #3B4455;\n",
              "      fill: #D2E3FC;\n",
              "    }\n",
              "\n",
              "    [theme=dark] .colab-df-convert:hover {\n",
              "      background-color: #434B5C;\n",
              "      box-shadow: 0px 1px 3px 1px rgba(0, 0, 0, 0.15);\n",
              "      filter: drop-shadow(0px 1px 2px rgba(0, 0, 0, 0.3));\n",
              "      fill: #FFFFFF;\n",
              "    }\n",
              "  </style>\n",
              "\n",
              "      <script>\n",
              "        const buttonEl =\n",
              "          document.querySelector('#df-78884db7-67ba-495f-8a3a-d7912224fc8a button.colab-df-convert');\n",
              "        buttonEl.style.display =\n",
              "          google.colab.kernel.accessAllowed ? 'block' : 'none';\n",
              "\n",
              "        async function convertToInteractive(key) {\n",
              "          const element = document.querySelector('#df-78884db7-67ba-495f-8a3a-d7912224fc8a');\n",
              "          const dataTable =\n",
              "            await google.colab.kernel.invokeFunction('convertToInteractive',\n",
              "                                                     [key], {});\n",
              "          if (!dataTable) return;\n",
              "\n",
              "          const docLinkHtml = 'Like what you see? Visit the ' +\n",
              "            '<a target=\"_blank\" href=https://colab.research.google.com/notebooks/data_table.ipynb>data table notebook</a>'\n",
              "            + ' to learn more about interactive tables.';\n",
              "          element.innerHTML = '';\n",
              "          dataTable['output_type'] = 'display_data';\n",
              "          await google.colab.output.renderOutput(dataTable, element);\n",
              "          const docLink = document.createElement('div');\n",
              "          docLink.innerHTML = docLinkHtml;\n",
              "          element.appendChild(docLink);\n",
              "        }\n",
              "      </script>\n",
              "    </div>\n",
              "  </div>\n",
              "  "
            ],
            "text/plain": [
              "      Flow Duration  Total Fwd Packets  Total Backward Packets  \\\n",
              "0         41.351351          88.190691              175.998498   \n",
              "1         66.576750         226.411411              212.244745   \n",
              "2         51.306306          88.190691              175.998498   \n",
              "3         41.351351          88.190691              175.998498   \n",
              "4         52.327327          88.190691              175.998498   \n",
              "...             ...                ...                     ...   \n",
              "7262      27.184685           0.000000              175.998498   \n",
              "7263     128.284597          88.190691               83.978979   \n",
              "7264       3.828829          88.190691                0.000000   \n",
              "7265      44.414414          88.190691              175.998498   \n",
              "7266      20.803303          88.190691               83.978979   \n",
              "\n",
              "      Total Length of Fwd Packets  Total Length of Bwd Packets  \\\n",
              "0                      182.507508                   175.998498   \n",
              "1                      205.017991                   202.672673   \n",
              "2                      182.507508                   175.998498   \n",
              "3                      182.507508                   175.998498   \n",
              "4                      182.507508                   175.998498   \n",
              "...                           ...                          ...   \n",
              "7262                     0.000000                     0.000000   \n",
              "7263                   103.633634                   113.078078   \n",
              "7264                   103.633634                     0.000000   \n",
              "7265                   164.384384                   203.055556   \n",
              "7266                   112.057057                   113.078078   \n",
              "\n",
              "      Fwd Packet Length Max  Fwd Packet Length Min  Fwd Packet Length Mean  \\\n",
              "0                167.575075             217.349850              180.082583   \n",
              "1                208.160661               0.000000              116.361353   \n",
              "2                167.575075             217.349850              180.082583   \n",
              "3                167.575075             217.349850              180.082583   \n",
              "4                167.575075             217.349850              180.082583   \n",
              "...                     ...                    ...                     ...   \n",
              "7262               0.000000               0.000000                0.000000   \n",
              "7263              99.039039             152.770270              100.825826   \n",
              "7264              99.039039             152.770270              100.825826   \n",
              "7265             141.539039             191.951952              151.493994   \n",
              "7266             122.012012               0.000000              115.247748   \n",
              "\n",
              "      Fwd Packet Length Std  Bwd Packet Length Max  ...  act_data_pkt_fwd  \\\n",
              "0                  0.000000             162.214715  ...        161.576577   \n",
              "1                209.567284             198.716216  ...        212.500000   \n",
              "2                  0.000000             162.214715  ...        161.576577   \n",
              "3                  0.000000             162.214715  ...        161.576577   \n",
              "4                  0.000000             162.214715  ...        161.576577   \n",
              "...                     ...                    ...  ...               ...   \n",
              "7262               0.000000               0.000000  ...          0.000000   \n",
              "7263               0.000000             113.716216  ...        161.576577   \n",
              "7264               0.000000               0.000000  ...        161.576577   \n",
              "7265               0.000000             199.099099  ...        161.576577   \n",
              "7266             206.756757             113.716216  ...          0.000000   \n",
              "\n",
              "      min_seg_size_forward  Active Mean  Active Std  Active Max  Active Min  \\\n",
              "0               174.594595          0.0         0.0         0.0         0.0   \n",
              "1               174.594595          0.0         0.0         0.0         0.0   \n",
              "2               174.594595          0.0         0.0         0.0         0.0   \n",
              "3               174.594595          0.0         0.0         0.0         0.0   \n",
              "4               174.594595          0.0         0.0         0.0         0.0   \n",
              "...                    ...          ...         ...         ...         ...   \n",
              "7262            174.594595          0.0         0.0         0.0         0.0   \n",
              "7263             49.009009          0.0         0.0         0.0         0.0   \n",
              "7264             49.009009          0.0         0.0         0.0         0.0   \n",
              "7265            174.594595          0.0         0.0         0.0         0.0   \n",
              "7266            174.594595          0.0         0.0         0.0         0.0   \n",
              "\n",
              "      Idle Mean  Idle Std  Idle Max  Idle Min  \n",
              "0           0.0       0.0       0.0       0.0  \n",
              "1           0.0       0.0       0.0       0.0  \n",
              "2           0.0       0.0       0.0       0.0  \n",
              "3           0.0       0.0       0.0       0.0  \n",
              "4           0.0       0.0       0.0       0.0  \n",
              "...         ...       ...       ...       ...  \n",
              "7262        0.0       0.0       0.0       0.0  \n",
              "7263        0.0       0.0       0.0       0.0  \n",
              "7264        0.0       0.0       0.0       0.0  \n",
              "7265        0.0       0.0       0.0       0.0  \n",
              "7266        0.0       0.0       0.0       0.0  \n",
              "\n",
              "[5087 rows x 74 columns]"
            ]
          },
          "execution_count": 29,
          "metadata": {},
          "output_type": "execute_result"
        }
      ],
      "source": [
        "# Selectionner les données liées aux trafics \"normaux\"\n",
        "df0=df[df['Label']==0].drop(['Label'],axis=1)\n",
        "df0"
      ]
    },
    {
      "cell_type": "code",
      "execution_count": null,
      "metadata": {
        "colab": {
          "base_uri": "https://localhost:8080/",
          "height": 540
        },
        "id": "VvyFcdpl6Nj_",
        "outputId": "4aba6001-fd2a-4cf4-88a9-9d692ecd730f"
      },
      "outputs": [
        {
          "data": {
            "text/html": [
              "\n",
              "  <div id=\"df-1a38c387-63a0-4f07-8971-0400088864e0\">\n",
              "    <div class=\"colab-df-container\">\n",
              "      <div>\n",
              "<style scoped>\n",
              "    .dataframe tbody tr th:only-of-type {\n",
              "        vertical-align: middle;\n",
              "    }\n",
              "\n",
              "    .dataframe tbody tr th {\n",
              "        vertical-align: top;\n",
              "    }\n",
              "\n",
              "    .dataframe thead th {\n",
              "        text-align: right;\n",
              "    }\n",
              "</style>\n",
              "<table border=\"1\" class=\"dataframe\">\n",
              "  <thead>\n",
              "    <tr style=\"text-align: right;\">\n",
              "      <th></th>\n",
              "      <th>Flow Duration</th>\n",
              "      <th>Total Fwd Packets</th>\n",
              "      <th>Total Backward Packets</th>\n",
              "      <th>Total Length of Fwd Packets</th>\n",
              "      <th>Total Length of Bwd Packets</th>\n",
              "      <th>Fwd Packet Length Max</th>\n",
              "      <th>Fwd Packet Length Min</th>\n",
              "      <th>Fwd Packet Length Mean</th>\n",
              "      <th>Fwd Packet Length Std</th>\n",
              "      <th>Bwd Packet Length Max</th>\n",
              "      <th>...</th>\n",
              "      <th>act_data_pkt_fwd</th>\n",
              "      <th>min_seg_size_forward</th>\n",
              "      <th>Active Mean</th>\n",
              "      <th>Active Std</th>\n",
              "      <th>Active Max</th>\n",
              "      <th>Active Min</th>\n",
              "      <th>Idle Mean</th>\n",
              "      <th>Idle Std</th>\n",
              "      <th>Idle Max</th>\n",
              "      <th>Idle Min</th>\n",
              "    </tr>\n",
              "  </thead>\n",
              "  <tbody>\n",
              "    <tr>\n",
              "      <th>402</th>\n",
              "      <td>162.597264</td>\n",
              "      <td>217.094595</td>\n",
              "      <td>223.093093</td>\n",
              "      <td>235.141574</td>\n",
              "      <td>224.437736</td>\n",
              "      <td>223.343584</td>\n",
              "      <td>0.0</td>\n",
              "      <td>243.768769</td>\n",
              "      <td>235.653424</td>\n",
              "      <td>223.139390</td>\n",
              "      <td>...</td>\n",
              "      <td>212.500000</td>\n",
              "      <td>174.594595</td>\n",
              "      <td>0.0</td>\n",
              "      <td>0.0</td>\n",
              "      <td>0.0</td>\n",
              "      <td>0.0</td>\n",
              "      <td>0.0</td>\n",
              "      <td>0.0</td>\n",
              "      <td>0.0</td>\n",
              "      <td>0.0</td>\n",
              "    </tr>\n",
              "    <tr>\n",
              "      <th>403</th>\n",
              "      <td>152.611119</td>\n",
              "      <td>226.411411</td>\n",
              "      <td>223.093093</td>\n",
              "      <td>228.198198</td>\n",
              "      <td>244.493447</td>\n",
              "      <td>225.791506</td>\n",
              "      <td>0.0</td>\n",
              "      <td>228.882324</td>\n",
              "      <td>231.280652</td>\n",
              "      <td>253.213213</td>\n",
              "      <td>...</td>\n",
              "      <td>201.906907</td>\n",
              "      <td>174.594595</td>\n",
              "      <td>0.0</td>\n",
              "      <td>0.0</td>\n",
              "      <td>0.0</td>\n",
              "      <td>0.0</td>\n",
              "      <td>0.0</td>\n",
              "      <td>0.0</td>\n",
              "      <td>0.0</td>\n",
              "      <td>0.0</td>\n",
              "    </tr>\n",
              "    <tr>\n",
              "      <th>410</th>\n",
              "      <td>27.184685</td>\n",
              "      <td>0.000000</td>\n",
              "      <td>83.978979</td>\n",
              "      <td>0.000000</td>\n",
              "      <td>0.000000</td>\n",
              "      <td>0.000000</td>\n",
              "      <td>0.0</td>\n",
              "      <td>0.000000</td>\n",
              "      <td>0.000000</td>\n",
              "      <td>0.000000</td>\n",
              "      <td>...</td>\n",
              "      <td>0.000000</td>\n",
              "      <td>174.594595</td>\n",
              "      <td>0.0</td>\n",
              "      <td>0.0</td>\n",
              "      <td>0.0</td>\n",
              "      <td>0.0</td>\n",
              "      <td>0.0</td>\n",
              "      <td>0.0</td>\n",
              "      <td>0.0</td>\n",
              "      <td>0.0</td>\n",
              "    </tr>\n",
              "    <tr>\n",
              "      <th>411</th>\n",
              "      <td>169.020639</td>\n",
              "      <td>217.094595</td>\n",
              "      <td>217.477477</td>\n",
              "      <td>234.080952</td>\n",
              "      <td>221.589556</td>\n",
              "      <td>238.755357</td>\n",
              "      <td>0.0</td>\n",
              "      <td>242.568961</td>\n",
              "      <td>243.872299</td>\n",
              "      <td>223.336774</td>\n",
              "      <td>...</td>\n",
              "      <td>201.906907</td>\n",
              "      <td>174.594595</td>\n",
              "      <td>0.0</td>\n",
              "      <td>0.0</td>\n",
              "      <td>0.0</td>\n",
              "      <td>0.0</td>\n",
              "      <td>0.0</td>\n",
              "      <td>0.0</td>\n",
              "      <td>0.0</td>\n",
              "      <td>0.0</td>\n",
              "    </tr>\n",
              "    <tr>\n",
              "      <th>414</th>\n",
              "      <td>149.767194</td>\n",
              "      <td>217.094595</td>\n",
              "      <td>212.244745</td>\n",
              "      <td>234.139141</td>\n",
              "      <td>221.589556</td>\n",
              "      <td>238.933770</td>\n",
              "      <td>0.0</td>\n",
              "      <td>242.613313</td>\n",
              "      <td>244.022398</td>\n",
              "      <td>223.336774</td>\n",
              "      <td>...</td>\n",
              "      <td>201.906907</td>\n",
              "      <td>174.594595</td>\n",
              "      <td>0.0</td>\n",
              "      <td>0.0</td>\n",
              "      <td>0.0</td>\n",
              "      <td>0.0</td>\n",
              "      <td>0.0</td>\n",
              "      <td>0.0</td>\n",
              "      <td>0.0</td>\n",
              "      <td>0.0</td>\n",
              "    </tr>\n",
              "    <tr>\n",
              "      <th>...</th>\n",
              "      <td>...</td>\n",
              "      <td>...</td>\n",
              "      <td>...</td>\n",
              "      <td>...</td>\n",
              "      <td>...</td>\n",
              "      <td>...</td>\n",
              "      <td>...</td>\n",
              "      <td>...</td>\n",
              "      <td>...</td>\n",
              "      <td>...</td>\n",
              "      <td>...</td>\n",
              "      <td>...</td>\n",
              "      <td>...</td>\n",
              "      <td>...</td>\n",
              "      <td>...</td>\n",
              "      <td>...</td>\n",
              "      <td>...</td>\n",
              "      <td>...</td>\n",
              "      <td>...</td>\n",
              "      <td>...</td>\n",
              "      <td>...</td>\n",
              "    </tr>\n",
              "    <tr>\n",
              "      <th>5276</th>\n",
              "      <td>148.280232</td>\n",
              "      <td>212.244745</td>\n",
              "      <td>207.267267</td>\n",
              "      <td>222.837838</td>\n",
              "      <td>223.416918</td>\n",
              "      <td>240.450450</td>\n",
              "      <td>0.0</td>\n",
              "      <td>240.434840</td>\n",
              "      <td>247.199899</td>\n",
              "      <td>245.300300</td>\n",
              "      <td>...</td>\n",
              "      <td>161.576577</td>\n",
              "      <td>174.594595</td>\n",
              "      <td>0.0</td>\n",
              "      <td>0.0</td>\n",
              "      <td>0.0</td>\n",
              "      <td>0.0</td>\n",
              "      <td>0.0</td>\n",
              "      <td>0.0</td>\n",
              "      <td>0.0</td>\n",
              "      <td>0.0</td>\n",
              "    </tr>\n",
              "    <tr>\n",
              "      <th>5280</th>\n",
              "      <td>149.428947</td>\n",
              "      <td>212.244745</td>\n",
              "      <td>217.477477</td>\n",
              "      <td>222.837838</td>\n",
              "      <td>231.788951</td>\n",
              "      <td>240.450450</td>\n",
              "      <td>0.0</td>\n",
              "      <td>240.434840</td>\n",
              "      <td>247.199899</td>\n",
              "      <td>247.351041</td>\n",
              "      <td>...</td>\n",
              "      <td>161.576577</td>\n",
              "      <td>174.594595</td>\n",
              "      <td>0.0</td>\n",
              "      <td>0.0</td>\n",
              "      <td>0.0</td>\n",
              "      <td>0.0</td>\n",
              "      <td>0.0</td>\n",
              "      <td>0.0</td>\n",
              "      <td>0.0</td>\n",
              "      <td>0.0</td>\n",
              "    </tr>\n",
              "    <tr>\n",
              "      <th>5289</th>\n",
              "      <td>148.624806</td>\n",
              "      <td>204.969970</td>\n",
              "      <td>212.244745</td>\n",
              "      <td>222.837838</td>\n",
              "      <td>223.416918</td>\n",
              "      <td>240.450450</td>\n",
              "      <td>0.0</td>\n",
              "      <td>244.495927</td>\n",
              "      <td>248.082489</td>\n",
              "      <td>245.300300</td>\n",
              "      <td>...</td>\n",
              "      <td>161.576577</td>\n",
              "      <td>174.594595</td>\n",
              "      <td>0.0</td>\n",
              "      <td>0.0</td>\n",
              "      <td>0.0</td>\n",
              "      <td>0.0</td>\n",
              "      <td>0.0</td>\n",
              "      <td>0.0</td>\n",
              "      <td>0.0</td>\n",
              "      <td>0.0</td>\n",
              "    </tr>\n",
              "    <tr>\n",
              "      <th>5290</th>\n",
              "      <td>24.759760</td>\n",
              "      <td>0.000000</td>\n",
              "      <td>83.978979</td>\n",
              "      <td>0.000000</td>\n",
              "      <td>0.000000</td>\n",
              "      <td>0.000000</td>\n",
              "      <td>0.0</td>\n",
              "      <td>0.000000</td>\n",
              "      <td>0.000000</td>\n",
              "      <td>0.000000</td>\n",
              "      <td>...</td>\n",
              "      <td>0.000000</td>\n",
              "      <td>174.594595</td>\n",
              "      <td>0.0</td>\n",
              "      <td>0.0</td>\n",
              "      <td>0.0</td>\n",
              "      <td>0.0</td>\n",
              "      <td>0.0</td>\n",
              "      <td>0.0</td>\n",
              "      <td>0.0</td>\n",
              "      <td>0.0</td>\n",
              "    </tr>\n",
              "    <tr>\n",
              "      <th>5291</th>\n",
              "      <td>30.885886</td>\n",
              "      <td>0.000000</td>\n",
              "      <td>83.978979</td>\n",
              "      <td>0.000000</td>\n",
              "      <td>0.000000</td>\n",
              "      <td>0.000000</td>\n",
              "      <td>0.0</td>\n",
              "      <td>0.000000</td>\n",
              "      <td>0.000000</td>\n",
              "      <td>0.000000</td>\n",
              "      <td>...</td>\n",
              "      <td>0.000000</td>\n",
              "      <td>174.594595</td>\n",
              "      <td>0.0</td>\n",
              "      <td>0.0</td>\n",
              "      <td>0.0</td>\n",
              "      <td>0.0</td>\n",
              "      <td>0.0</td>\n",
              "      <td>0.0</td>\n",
              "      <td>0.0</td>\n",
              "      <td>0.0</td>\n",
              "    </tr>\n",
              "  </tbody>\n",
              "</table>\n",
              "<p>2180 rows × 74 columns</p>\n",
              "</div>\n",
              "      <button class=\"colab-df-convert\" onclick=\"convertToInteractive('df-1a38c387-63a0-4f07-8971-0400088864e0')\"\n",
              "              title=\"Convert this dataframe to an interactive table.\"\n",
              "              style=\"display:none;\">\n",
              "        \n",
              "  <svg xmlns=\"http://www.w3.org/2000/svg\" height=\"24px\"viewBox=\"0 0 24 24\"\n",
              "       width=\"24px\">\n",
              "    <path d=\"M0 0h24v24H0V0z\" fill=\"none\"/>\n",
              "    <path d=\"M18.56 5.44l.94 2.06.94-2.06 2.06-.94-2.06-.94-.94-2.06-.94 2.06-2.06.94zm-11 1L8.5 8.5l.94-2.06 2.06-.94-2.06-.94L8.5 2.5l-.94 2.06-2.06.94zm10 10l.94 2.06.94-2.06 2.06-.94-2.06-.94-.94-2.06-.94 2.06-2.06.94z\"/><path d=\"M17.41 7.96l-1.37-1.37c-.4-.4-.92-.59-1.43-.59-.52 0-1.04.2-1.43.59L10.3 9.45l-7.72 7.72c-.78.78-.78 2.05 0 2.83L4 21.41c.39.39.9.59 1.41.59.51 0 1.02-.2 1.41-.59l7.78-7.78 2.81-2.81c.8-.78.8-2.07 0-2.86zM5.41 20L4 18.59l7.72-7.72 1.47 1.35L5.41 20z\"/>\n",
              "  </svg>\n",
              "      </button>\n",
              "      \n",
              "  <style>\n",
              "    .colab-df-container {\n",
              "      display:flex;\n",
              "      flex-wrap:wrap;\n",
              "      gap: 12px;\n",
              "    }\n",
              "\n",
              "    .colab-df-convert {\n",
              "      background-color: #E8F0FE;\n",
              "      border: none;\n",
              "      border-radius: 50%;\n",
              "      cursor: pointer;\n",
              "      display: none;\n",
              "      fill: #1967D2;\n",
              "      height: 32px;\n",
              "      padding: 0 0 0 0;\n",
              "      width: 32px;\n",
              "    }\n",
              "\n",
              "    .colab-df-convert:hover {\n",
              "      background-color: #E2EBFA;\n",
              "      box-shadow: 0px 1px 2px rgba(60, 64, 67, 0.3), 0px 1px 3px 1px rgba(60, 64, 67, 0.15);\n",
              "      fill: #174EA6;\n",
              "    }\n",
              "\n",
              "    [theme=dark] .colab-df-convert {\n",
              "      background-color: #3B4455;\n",
              "      fill: #D2E3FC;\n",
              "    }\n",
              "\n",
              "    [theme=dark] .colab-df-convert:hover {\n",
              "      background-color: #434B5C;\n",
              "      box-shadow: 0px 1px 3px 1px rgba(0, 0, 0, 0.15);\n",
              "      filter: drop-shadow(0px 1px 2px rgba(0, 0, 0, 0.3));\n",
              "      fill: #FFFFFF;\n",
              "    }\n",
              "  </style>\n",
              "\n",
              "      <script>\n",
              "        const buttonEl =\n",
              "          document.querySelector('#df-1a38c387-63a0-4f07-8971-0400088864e0 button.colab-df-convert');\n",
              "        buttonEl.style.display =\n",
              "          google.colab.kernel.accessAllowed ? 'block' : 'none';\n",
              "\n",
              "        async function convertToInteractive(key) {\n",
              "          const element = document.querySelector('#df-1a38c387-63a0-4f07-8971-0400088864e0');\n",
              "          const dataTable =\n",
              "            await google.colab.kernel.invokeFunction('convertToInteractive',\n",
              "                                                     [key], {});\n",
              "          if (!dataTable) return;\n",
              "\n",
              "          const docLinkHtml = 'Like what you see? Visit the ' +\n",
              "            '<a target=\"_blank\" href=https://colab.research.google.com/notebooks/data_table.ipynb>data table notebook</a>'\n",
              "            + ' to learn more about interactive tables.';\n",
              "          element.innerHTML = '';\n",
              "          dataTable['output_type'] = 'display_data';\n",
              "          await google.colab.output.renderOutput(dataTable, element);\n",
              "          const docLink = document.createElement('div');\n",
              "          docLink.innerHTML = docLinkHtml;\n",
              "          element.appendChild(docLink);\n",
              "        }\n",
              "      </script>\n",
              "    </div>\n",
              "  </div>\n",
              "  "
            ],
            "text/plain": [
              "      Flow Duration  Total Fwd Packets  Total Backward Packets  \\\n",
              "402      162.597264         217.094595              223.093093   \n",
              "403      152.611119         226.411411              223.093093   \n",
              "410       27.184685           0.000000               83.978979   \n",
              "411      169.020639         217.094595              217.477477   \n",
              "414      149.767194         217.094595              212.244745   \n",
              "...             ...                ...                     ...   \n",
              "5276     148.280232         212.244745              207.267267   \n",
              "5280     149.428947         212.244745              217.477477   \n",
              "5289     148.624806         204.969970              212.244745   \n",
              "5290      24.759760           0.000000               83.978979   \n",
              "5291      30.885886           0.000000               83.978979   \n",
              "\n",
              "      Total Length of Fwd Packets  Total Length of Bwd Packets  \\\n",
              "402                    235.141574                   224.437736   \n",
              "403                    228.198198                   244.493447   \n",
              "410                      0.000000                     0.000000   \n",
              "411                    234.080952                   221.589556   \n",
              "414                    234.139141                   221.589556   \n",
              "...                           ...                          ...   \n",
              "5276                   222.837838                   223.416918   \n",
              "5280                   222.837838                   231.788951   \n",
              "5289                   222.837838                   223.416918   \n",
              "5290                     0.000000                     0.000000   \n",
              "5291                     0.000000                     0.000000   \n",
              "\n",
              "      Fwd Packet Length Max  Fwd Packet Length Min  Fwd Packet Length Mean  \\\n",
              "402              223.343584                    0.0              243.768769   \n",
              "403              225.791506                    0.0              228.882324   \n",
              "410                0.000000                    0.0                0.000000   \n",
              "411              238.755357                    0.0              242.568961   \n",
              "414              238.933770                    0.0              242.613313   \n",
              "...                     ...                    ...                     ...   \n",
              "5276             240.450450                    0.0              240.434840   \n",
              "5280             240.450450                    0.0              240.434840   \n",
              "5289             240.450450                    0.0              244.495927   \n",
              "5290               0.000000                    0.0                0.000000   \n",
              "5291               0.000000                    0.0                0.000000   \n",
              "\n",
              "      Fwd Packet Length Std  Bwd Packet Length Max  ...  act_data_pkt_fwd  \\\n",
              "402              235.653424             223.139390  ...        212.500000   \n",
              "403              231.280652             253.213213  ...        201.906907   \n",
              "410                0.000000               0.000000  ...          0.000000   \n",
              "411              243.872299             223.336774  ...        201.906907   \n",
              "414              244.022398             223.336774  ...        201.906907   \n",
              "...                     ...                    ...  ...               ...   \n",
              "5276             247.199899             245.300300  ...        161.576577   \n",
              "5280             247.199899             247.351041  ...        161.576577   \n",
              "5289             248.082489             245.300300  ...        161.576577   \n",
              "5290               0.000000               0.000000  ...          0.000000   \n",
              "5291               0.000000               0.000000  ...          0.000000   \n",
              "\n",
              "      min_seg_size_forward  Active Mean  Active Std  Active Max  Active Min  \\\n",
              "402             174.594595          0.0         0.0         0.0         0.0   \n",
              "403             174.594595          0.0         0.0         0.0         0.0   \n",
              "410             174.594595          0.0         0.0         0.0         0.0   \n",
              "411             174.594595          0.0         0.0         0.0         0.0   \n",
              "414             174.594595          0.0         0.0         0.0         0.0   \n",
              "...                    ...          ...         ...         ...         ...   \n",
              "5276            174.594595          0.0         0.0         0.0         0.0   \n",
              "5280            174.594595          0.0         0.0         0.0         0.0   \n",
              "5289            174.594595          0.0         0.0         0.0         0.0   \n",
              "5290            174.594595          0.0         0.0         0.0         0.0   \n",
              "5291            174.594595          0.0         0.0         0.0         0.0   \n",
              "\n",
              "      Idle Mean  Idle Std  Idle Max  Idle Min  \n",
              "402         0.0       0.0       0.0       0.0  \n",
              "403         0.0       0.0       0.0       0.0  \n",
              "410         0.0       0.0       0.0       0.0  \n",
              "411         0.0       0.0       0.0       0.0  \n",
              "414         0.0       0.0       0.0       0.0  \n",
              "...         ...       ...       ...       ...  \n",
              "5276        0.0       0.0       0.0       0.0  \n",
              "5280        0.0       0.0       0.0       0.0  \n",
              "5289        0.0       0.0       0.0       0.0  \n",
              "5290        0.0       0.0       0.0       0.0  \n",
              "5291        0.0       0.0       0.0       0.0  \n",
              "\n",
              "[2180 rows x 74 columns]"
            ]
          },
          "execution_count": 30,
          "metadata": {},
          "output_type": "execute_result"
        }
      ],
      "source": [
        "# Selectionner les données liées aux trafics malicieux\n",
        "df1=df[df['Label']==255].drop(['Label'],axis=1)\n",
        "df1"
      ]
    },
    {
      "cell_type": "code",
      "execution_count": null,
      "metadata": {
        "id": "Sl9TlkWz6SeX"
      },
      "outputs": [],
      "source": [
        "# Creation des images selon les données liées au trafic \"normal\" dans le dossier ./train/1/\n",
        "count=0\n",
        "ims = []\n",
        "\n",
        "image_path = \"./train/1/\"\n",
        "try:\n",
        "  os.makedirs(image_path)\n",
        "except Exception:\n",
        "  print('File exists')\n",
        "for i in range(0, len(df0)):  \n",
        "    count=count+1\n",
        "    if count<=74: \n",
        "        im=df0.iloc[i].values\n",
        "        ims=np.append(ims,im)\n",
        "    else:\n",
        "        ims=np.array(ims).reshape(74,74)\n",
        "        array = np.array(ims, dtype=np.uint8)\n",
        "        new_image = Image.fromarray(array)\n",
        "        new_image.save(image_path+str(i)+'.png')\n",
        "        count=0\n",
        "        ims = []\n"
      ]
    },
    {
      "cell_type": "code",
      "execution_count": null,
      "metadata": {
        "id": "qJ3NMNnfAtQW"
      },
      "outputs": [],
      "source": [
        "# Creation des images selon les données liées au trafic malicieux dans le dossier ./train/1/\n",
        "count=0\n",
        "ims = []\n",
        "\n",
        "image_path = \"./train/2/\"\n",
        "try:\n",
        "  os.makedirs(image_path)\n",
        "except Exception:\n",
        "  print('File exists')\n",
        "for i in range(0, len(df1)):  \n",
        "    count=count+1\n",
        "    if count<=74: \n",
        "        im=df1.iloc[i].values\n",
        "        ims=np.append(ims,im)\n",
        "    else:\n",
        "        ims=np.array(ims).reshape(74,74)\n",
        "        array = np.array(ims, dtype=np.uint8)\n",
        "        new_image = Image.fromarray(array)\n",
        "        try:\n",
        "          new_image.save(image_path+str(i)+'.png')\n",
        "        except Exception:\n",
        "          print('not possible')\n",
        "        count=0\n",
        "        ims = []\n"
      ]
    },
    {
      "cell_type": "code",
      "execution_count": null,
      "metadata": {
        "colab": {
          "base_uri": "https://localhost:8080/",
          "height": 177
        },
        "id": "6iNKukd3Cju9",
        "outputId": "60090ec5-9862-4249-86be-fde560b3a219"
      },
      "outputs": [
        {
          "data": {
            "text/plain": [
              "Text(0.5, 1.0, 'Attack')"
            ]
          },
          "execution_count": 35,
          "metadata": {},
          "output_type": "execute_result"
        },
        {
          "data": {
            "image/png": "[encoded data removed]",
            "text/plain": [
              "<Figure size 720x720 with 2 Axes>"
            ]
          },
          "metadata": {
            "needs_background": "light"
          },
          "output_type": "display_data"
        }
      ],
      "source": [
        "# Visualisation des deux images\n",
        "img1 = Image.open('./train/1/1049.png')\n",
        "img2 = Image.open('./train/2/1049.png')\n",
        "plt.figure(figsize=(10, 10)) \n",
        "plt.subplot(1,5,1)\n",
        "plt.imshow(img1)\n",
        "plt.title(\"Normal\")\n",
        "plt.subplot(1,5,2)\n",
        "plt.imshow(img2)\n",
        "plt.title(\"Attack\")"
      ]
    },
    {
      "cell_type": "code",
      "execution_count": null,
      "metadata": {
        "colab": {
          "base_uri": "https://localhost:8080/"
        },
        "id": "SA2hbR5aELLY",
        "outputId": "7d9d8f49-4e53-41a9-9acf-7548ae90907d"
      },
      "outputs": [
        {
          "name": "stdout",
          "output_type": "stream",
          "text": [
            "96\n"
          ]
        }
      ],
      "source": [
        "# Création des dossiers pour enregistrer les images\n",
        "Train_Dir='./train/'\n",
        "Val_Dir='./test/'\n",
        "allimgs=[]\n",
        "for subdir in os.listdir(Train_Dir):\n",
        "    for filename in os.listdir(os.path.join(Train_Dir,subdir)):\n",
        "        filepath=os.path.join(Train_Dir,subdir,filename)\n",
        "        allimgs.append(filepath)\n",
        "print(len(allimgs)) # Ecrire la totalité des nombres des images"
      ]
    },
    {
      "cell_type": "code",
      "execution_count": null,
      "metadata": {
        "id": "bQ66mL_eF8io"
      },
      "outputs": [],
      "source": [
        "# Séparation des données de test de la dataset (train/test size = 80%/20%)\n",
        "Numbers=len(allimgs)//5 \t#size of test set (20%)\n",
        "\n",
        "def mymovefile(srcfile,dstfile):\n",
        "    if not os.path.isfile(srcfile):\n",
        "        print (\"%s not exist!\"%(srcfile))\n",
        "    else:\n",
        "        fpath,fname=os.path.split(dstfile)    \n",
        "        if not os.path.exists(fpath):\n",
        "            os.makedirs(fpath)               \n",
        "        shutil.move(srcfile,dstfile)          "
      ]
    },
    {
      "cell_type": "code",
      "execution_count": null,
      "metadata": {
        "colab": {
          "base_uri": "https://localhost:8080/"
        },
        "id": "nFz0Bq4aGIC2",
        "outputId": "54753131-6d1b-49c8-b42b-e751e5fa37b4"
      },
      "outputs": [
        {
          "data": {
            "text/plain": [
              "19"
            ]
          },
          "execution_count": 38,
          "metadata": {},
          "output_type": "execute_result"
        }
      ],
      "source": [
        "Numbers"
      ]
    },
    {
      "cell_type": "code",
      "execution_count": null,
      "metadata": {
        "colab": {
          "base_uri": "https://localhost:8080/"
        },
        "id": "OP63h9P-GRpq",
        "outputId": "50a8b106-a98f-4514-a312-06c2fa06700f"
      },
      "outputs": [
        {
          "name": "stdout",
          "output_type": "stream",
          "text": [
            "Finish creating test set\n"
          ]
        }
      ],
      "source": [
        "# Création des données de test\n",
        "val_imgs=random.sample(allimgs,Numbers)\n",
        "for img in val_imgs:\n",
        "    dest_path=img.replace(Train_Dir,Val_Dir)\n",
        "    mymovefile(img,dest_path)\n",
        "print('Finish creating test set')"
      ]
    },
    {
      "cell_type": "code",
      "execution_count": null,
      "metadata": {
        "id": "UAMM8szRGXq8"
      },
      "outputs": [],
      "source": [
        "# Redimensionnement des images 224*224 pour un entraînement CNN meilleur\n",
        "def get_224(folder,dstdir):\n",
        "    imgfilepaths=[]\n",
        "    for root,dirs,imgs in os.walk(folder):\n",
        "        for thisimg in imgs:\n",
        "            thisimg_path=os.path.join(root,thisimg)\n",
        "            imgfilepaths.append(thisimg_path)\n",
        "    for thisimg_path in imgfilepaths:\n",
        "        dir_name,filename=os.path.split(thisimg_path)\n",
        "        dir_name=dir_name.replace(folder,dstdir)\n",
        "        new_file_path=os.path.join(dir_name,filename)\n",
        "        if not os.path.exists(dir_name):\n",
        "            os.makedirs(dir_name)\n",
        "        img=cv2.imread(thisimg_path)\n",
        "        img=cv2.resize(img,(224,224))\n",
        "        cv2.imwrite(new_file_path,img)\n",
        "    print('Finish resizing'.format(folder=folder))\n",
        "    "
      ]
    },
    {
      "cell_type": "code",
      "execution_count": null,
      "metadata": {
        "colab": {
          "base_uri": "https://localhost:8080/"
        },
        "id": "6zeMIt_n2WAU",
        "outputId": "20287c63-e1a8-4591-dddf-8b228adff912"
      },
      "outputs": [
        {
          "name": "stdout",
          "output_type": "stream",
          "text": [
            "Finish resizing\n"
          ]
        }
      ],
      "source": [
        "DATA_DIR_224='./train_224/'\n",
        "get_224(folder='./train/',dstdir=DATA_DIR_224)"
      ]
    },
    {
      "cell_type": "code",
      "execution_count": null,
      "metadata": {
        "colab": {
          "base_uri": "https://localhost:8080/"
        },
        "id": "sqwmyzrA2eIa",
        "outputId": "80c39173-d1eb-4fab-a471-f719db703d0b"
      },
      "outputs": [
        {
          "name": "stdout",
          "output_type": "stream",
          "text": [
            "Finish resizing\n"
          ]
        }
      ],
      "source": [
        "\n",
        "DATA_DIR2_224='./test_224/'\n",
        "get_224(folder='./test/',dstdir=DATA_DIR2_224)"
      ]
    },
    {
      "cell_type": "code",
      "execution_count": null,
      "metadata": {
        "colab": {
          "base_uri": "https://localhost:8080/",
          "height": 177
        },
        "id": "wdr5zRnFHNt8",
        "outputId": "71344b7f-f7de-405f-afd4-a401c1d7199e"
      },
      "outputs": [
        {
          "data": {
            "text/plain": [
              "Text(0.5, 1.0, 'Attack')"
            ]
          },
          "execution_count": 47,
          "metadata": {},
          "output_type": "execute_result"
        },
        {
          "data": {
            "image/png": "[encoded data removed]",
            "text/plain": [
              "<Figure size 720x720 with 2 Axes>"
            ]
          },
          "metadata": {
            "needs_background": "light"
          },
          "output_type": "display_data"
        }
      ],
      "source": [
        "# Visualisation\n",
        "img1 = Image.open('./train_224/1/1049.png')\n",
        "img2 = Image.open('./train_224/2/1124.png')\n",
        "plt.figure(figsize=(10, 10)) \n",
        "plt.subplot(1,5,1)\n",
        "plt.imshow(img1)\n",
        "plt.title(\"Normal\")\n",
        "plt.subplot(1,5,2)\n",
        "plt.imshow(img2)\n",
        "plt.title(\"Attack\")"
      ]
    },
    {
      "cell_type": "code",
      "execution_count": null,
      "metadata": {
        "id": "sZ5UaGko3U-v"
      },
      "outputs": [],
      "source": [
        "# Importation des modules et librairies nécessaires\n",
        "import os\n",
        "from keras.preprocessing.image import  ImageDataGenerator\n",
        "from keras.layers import Dense,Flatten,GlobalAveragePooling2D,Input,Conv2D,MaxPooling2D,Dropout\n",
        "from keras.models import Model,load_model,Sequential\n",
        "from keras.applications.xception import  Xception\n",
        "from keras.applications.vgg16 import VGG16\n",
        "from keras.applications.vgg19 import VGG19\n",
        "from keras.applications.inception_v3 import InceptionV3\n",
        "from keras.applications.inception_resnet_v2 import InceptionResNetV2\n",
        "from keras.applications.mobilenet import MobileNet\n",
        "import keras.callbacks as kcallbacks\n",
        "import keras\n",
        "from keras.preprocessing.image import load_img,img_to_array\n",
        "import math\n",
        "import random\n",
        "from keras.utils.vis_utils import plot_model\n",
        "import matplotlib.pyplot as plt\n",
        "import sklearn.metrics as metrics\n",
        "import numpy as np\n",
        "from PIL import Image\n",
        "import sklearn.metrics as metrics\n",
        "from sklearn.metrics import accuracy_score,precision_score,recall_score,f1_score"
      ]
    },
    {
      "cell_type": "code",
      "execution_count": null,
      "metadata": {
        "colab": {
          "base_uri": "https://localhost:8080/"
        },
        "id": "PopUv7Y03zxE",
        "outputId": "cb0f51a5-a5cc-450e-b174-e216d495871b"
      },
      "outputs": [
        {
          "name": "stdout",
          "output_type": "stream",
          "text": [
            "Found 77 images belonging to 2 classes.\n",
            "Found 19 images belonging to 2 classes.\n"
          ]
        }
      ],
      "source": [
        "# Génération des images d'entraînement et de test\n",
        "TARGET_SIZE=(224,224)\n",
        "INPUT_SIZE=(224,224,3)\n",
        "BATCHSIZE=128\t\n",
        "\n",
        "#Normalization\n",
        "train_datagen = ImageDataGenerator(rescale=1./255)\n",
        "\n",
        "test_datagen = ImageDataGenerator(rescale=1./255)\n",
        "\n",
        "train_generator = train_datagen.flow_from_directory(\n",
        "        './train_224/',\n",
        "        target_size=TARGET_SIZE,\n",
        "        batch_size=BATCHSIZE,\n",
        "        class_mode='categorical')\n",
        "validation_generator = test_datagen.flow_from_directory(\n",
        "        './test_224/',\n",
        "        target_size=TARGET_SIZE,\n",
        "        batch_size=BATCHSIZE,\n",
        "        class_mode='categorical')"
      ]
    },
    {
      "cell_type": "code",
      "execution_count": null,
      "metadata": {
        "id": "RhYDhq2IIJ-C"
      },
      "outputs": [],
      "source": [
        "# Classe de visualisation\n",
        "class LossHistory(keras.callbacks.Callback):\n",
        "    def on_train_begin(self, logs={}):\n",
        "        self.losses = {'batch':[], 'epoch':[]}\n",
        "        self.accuracy = {'batch':[], 'epoch':[]}\n",
        "        self.val_loss = {'batch':[], 'epoch':[]}\n",
        "        self.val_acc = {'batch':[], 'epoch':[]}\n",
        "    def on_batch_end(self, batch, logs={}):\n",
        "        self.losses['batch'].append(logs.get('loss'))\n",
        "        self.accuracy['batch'].append(logs.get('acc'))\n",
        "        self.val_loss['batch'].append(logs.get('val_loss'))\n",
        "        self.val_acc['batch'].append(logs.get('val_acc'))\n",
        "    def on_epoch_end(self, batch, logs={}):\n",
        "        self.losses['epoch'].append(logs.get('loss'))\n",
        "        self.accuracy['epoch'].append(logs.get('acc'))\n",
        "        self.val_loss['epoch'].append(logs.get('val_loss'))\n",
        "        self.val_acc['epoch'].append(logs.get('val_acc'))\n",
        "    def loss_plot(self, loss_type):\n",
        "        iters = range(len(self.losses[loss_type]))\n",
        "        plt.figure()\n",
        "        plt.plot(iters, self.losses[loss_type], 'g', label='train loss')\n",
        "        if loss_type == 'epoch':\n",
        "            # acc\n",
        "            plt.plot(iters, self.accuracy[loss_type], 'r', label='train acc')\n",
        "            # loss\n",
        "            plt.plot(iters, self.losses[loss_type], 'g', label='train loss')\n",
        "            # val_acc\n",
        "            plt.plot(iters, self.val_acc[loss_type], 'b', label='val acc')\n",
        "            # val_loss\n",
        "            plt.plot(iters, self.val_loss[loss_type], 'k', label='val loss')\n",
        "        plt.grid(True)\n",
        "        plt.xlabel(loss_type)\n",
        "        plt.ylabel('acc-loss')\n",
        "        plt.legend(loc=\"upper right\")\n",
        "        plt.show()"
      ]
    },
    {
      "cell_type": "code",
      "execution_count": null,
      "metadata": {
        "id": "-2fsQQuJIrDR"
      },
      "outputs": [],
      "source": [
        "# Instantiation d'objet\n",
        "history_this= LossHistory()"
      ]
    },
    {
      "cell_type": "code",
      "execution_count": null,
      "metadata": {
        "id": "-LokdaKq9isf"
      },
      "outputs": [],
      "source": [
        "# Initialisation\n",
        "num_filters = 8\n",
        "filter_size = 3\n",
        "pool_size = 2"
      ]
    },
    {
      "cell_type": "code",
      "execution_count": null,
      "metadata": {
        "id": "mD4gvYqS6uKI"
      },
      "outputs": [],
      "source": [
        "# Création du model\n",
        "model = Sequential([\n",
        "  Conv2D(num_filters, filter_size, input_shape=(224, 224, 3)),\n",
        "  MaxPooling2D(pool_size=pool_size),\n",
        "  Flatten(),\n",
        "  Dense(2, activation='softmax'),\n",
        "])"
      ]
    },
    {
      "cell_type": "code",
      "execution_count": null,
      "metadata": {
        "id": "BtGWxbbOFL_W"
      },
      "outputs": [],
      "source": [
        "# Compilation du model\n",
        "model.compile(\n",
        "  'adam',\n",
        "  loss='categorical_crossentropy',\n",
        "  metrics=['accuracy'],\n",
        ")"
      ]
    },
    {
      "cell_type": "code",
      "execution_count": null,
      "metadata": {
        "colab": {
          "base_uri": "https://localhost:8080/"
        },
        "id": "3uiFVOCm_7HW",
        "outputId": "e006323c-2ab1-4d2b-9f8f-b21b0049dc8c"
      },
      "outputs": [
        {
          "name": "stdout",
          "output_type": "stream",
          "text": [
            "Epoch 1/3\n",
            "1/1 [==============================] - 5s 5s/step - loss: 1.1657e-05 - accuracy: 1.0000 - val_loss: 1.1882e-04 - val_accuracy: 1.0000\n",
            "Epoch 2/3\n",
            "1/1 [==============================] - 4s 4s/step - loss: 1.2439e-05 - accuracy: 1.0000 - val_loss: 1.2574e-04 - val_accuracy: 1.0000\n",
            "Epoch 3/3\n",
            "1/1 [==============================] - 3s 3s/step - loss: 1.3197e-05 - accuracy: 1.0000 - val_loss: 1.3232e-04 - val_accuracy: 1.0000\n"
          ]
        },
        {
          "data": {
            "text/plain": [
              "<keras.callbacks.History at 0x7f33fa6bae10>"
            ]
          },
          "execution_count": 93,
          "metadata": {},
          "output_type": "execute_result"
        }
      ],
      "source": [
        "# Entraînement du modèle\n",
        "model.fit(\n",
        "   train_generator,\n",
        "   steps_per_epoch=len(train_generator),\n",
        "   epochs=3,\n",
        "   validation_data=validation_generator,\n",
        "   validation_steps=len(validation_generator),\n",
        "   callbacks=[history_this],\n",
        ")"
      ]
    },
    {
      "cell_type": "code",
      "execution_count": null,
      "metadata": {
        "colab": {
          "base_uri": "https://localhost:8080/",
          "height": 552
        },
        "id": "pryr3a2pJWgv",
        "outputId": "696c9045-067d-4f8e-d22c-0f393f2322cb"
      },
      "outputs": [
        {
          "data": {
            "image/png": "[encoded data removed]",
            "text/plain": [
              "<Figure size 432x288 with 1 Axes>"
            ]
          },
          "metadata": {
            "needs_background": "light"
          },
          "output_type": "display_data"
        },
        {
          "data": {
            "image/png": "[encoded data removed]",
            "text/plain": [
              "<Figure size 432x288 with 1 Axes>"
            ]
          },
          "metadata": {
            "needs_background": "light"
          },
          "output_type": "display_data"
        }
      ],
      "source": [
        "# Visualisation des pertes\n",
        "history_this.loss_plot('epoch')\n",
        "history_this.loss_plot('batch')\n",
        "plt.show()"
      ]
    },
    {
      "cell_type": "code",
      "execution_count": null,
      "metadata": {
        "colab": {
          "base_uri": "https://localhost:8080/"
        },
        "id": "HgpicKXnGv7V",
        "outputId": "0c82242f-5063-4e48-dde6-a8def415deca"
      },
      "outputs": [
        {
          "data": {
            "text/plain": [
              "{0: '1', 1: '2'}"
            ]
          },
          "execution_count": 107,
          "metadata": {},
          "output_type": "execute_result"
        }
      ],
      "source": [
        "# Affectation des caractéristiques\n",
        "label=validation_generator.class_indices\n",
        "label={v: k for k, v in label.items()}\n",
        "label"
      ]
    },
    {
      "cell_type": "code",
      "execution_count": null,
      "metadata": {
        "colab": {
          "base_uri": "https://localhost:8080/"
        },
        "id": "tGfCZJ5LL5u7",
        "outputId": "2ec6d934-3cd6-4c30-f21d-a52362d86005"
      },
      "outputs": [
        {
          "name": "stdout",
          "output_type": "stream",
          "text": [
            "2 ./test_224/2/2024.png\n"
          ]
        }
      ],
      "source": [
        "# Lecture des images depuis le dossier de validation\n",
        "rootdir = './test_224/'\n",
        "test_laels = []\n",
        "test_images=[]\n",
        "for subdir, dirs, files in os.walk(rootdir):\n",
        "    for file in files:\n",
        "        if not (file.endswith(\".jpeg\"))|(file.endswith(\".jpg\"))|(file.endswith(\".png\")):\n",
        "            continue\n",
        "        test_laels.append(subdir.split('/')[-1])\n",
        "        test_images.append(os.path.join(subdir, file))\n",
        "        \n",
        "print(test_laels[0],test_images[0])"
      ]
    },
    {
      "cell_type": "code",
      "execution_count": null,
      "metadata": {
        "colab": {
          "base_uri": "https://localhost:8080/",
          "height": 304
        },
        "id": "HwSuHXjHL89M",
        "outputId": "32e4ae9f-4c42-4ada-f367-0fcfc5283168"
      },
      "outputs": [
        {
          "name": "stdout",
          "output_type": "stream",
          "text": [
            "Predicted result for the first image: 2\n",
            "Confidence level: 1.0\n"
          ]
        },
        {
          "data": {
            "image/png": "[encoded data removed]",
            "text/plain": [
              "<Figure size 432x288 with 1 Axes>"
            ]
          },
          "metadata": {
            "needs_background": "light"
          },
          "output_type": "display_data"
        }
      ],
      "source": [
        "# Affichage du résultat prédit et du niveau de confiance\n",
        "import cv2\n",
        "import matplotlib.pyplot as plt\n",
        "test=cv2.imread(test_images[0])\n",
        "\n",
        "img_show=test[:,:,[2,1,0]]\n",
        "test=test/255.\n",
        "test_shape=(1,)+test.shape\n",
        "test=test.reshape(test_shape)\n",
        "\n",
        "res=model.predict(test)\n",
        "\n",
        "prob=res[0,np.argmax(res,axis=1)[0]]\n",
        "res=label[np.argmax(res,axis=1)[0]]\n",
        "print('Predicted result for the first image: %s'%res)\n",
        "print('Confidence level: %s'%prob)\n",
        "plt.imshow(img_show)\n",
        "plt.show()"
      ]
    },
    {
      "cell_type": "code",
      "execution_count": null,
      "metadata": {
        "colab": {
          "base_uri": "https://localhost:8080/"
        },
        "id": "qhQ6H7JIN7FZ",
        "outputId": "ddd71f58-e118-4525-a54b-9617a9481cec"
      },
      "outputs": [
        {
          "name": "stdout",
          "output_type": "stream",
          "text": [
            "CPU times: user 1.22 s, sys: 30.6 ms, total: 1.25 s\n",
            "Wall time: 1.17 s\n"
          ]
        }
      ],
      "source": [
        "# Détails à propos des ressources consommées\n",
        "%%time\n",
        "import time\n",
        "predict=[]\n",
        "length=len(test_images)\n",
        "t1 = time.time()\n",
        "for i in range(length):\n",
        "    inputimg=test_images[i]\n",
        "    test_batch=[]\n",
        "    thisimg=np.array(Image.open(inputimg))/255 #read all the images in validation set\n",
        "    #print(thisimg)\n",
        "    test_shape=(1,)+thisimg.shape\n",
        "    thisimg=thisimg.reshape(test_shape)\n",
        "    model_batch=model.predict(thisimg) #use master model to process the input image\n",
        "    #generate result by model 1\n",
        "    prob=model_batch[0,np.argmax(model_batch,axis=1)[0]]\n",
        "    res=label[np.argmax(model_batch,axis=1)[0]]\n",
        "    predict.append(res)"
      ]
    },
    {
      "cell_type": "code",
      "execution_count": null,
      "metadata": {
        "colab": {
          "base_uri": "https://localhost:8080/"
        },
        "id": "hKBfe7KSOPlg",
        "outputId": "7766c7db-92f7-43ef-c8b8-d6c69edd2924"
      },
      "outputs": [
        {
          "name": "stdout",
          "output_type": "stream",
          "text": [
            "CNN accuracy: 1.0\n",
            "precision: 1.0\n",
            "recall: 1.0\n",
            "f1: 1.0\n",
            "[[10  0]\n",
            " [ 0  9]]\n",
            "              precision    recall  f1-score   support\n",
            "\n",
            "           1       1.00      1.00      1.00        10\n",
            "           2       1.00      1.00      1.00         9\n",
            "\n",
            "    accuracy                           1.00        19\n",
            "   macro avg       1.00      1.00      1.00        19\n",
            "weighted avg       1.00      1.00      1.00        19\n",
            "\n"
          ]
        }
      ],
      "source": [
        "# Calcul de l'accuracy, de la précision, du recall et du F1-score\n",
        "from sklearn.metrics import accuracy_score,precision_score,recall_score,f1_score\n",
        "acc=accuracy_score(test_laels,predict)\n",
        "pre=precision_score(test_laels,predict,average='weighted')\n",
        "re=recall_score(test_laels,predict,average='weighted')\n",
        "f1=f1_score(test_laels,predict,average='weighted')\n",
        "print('CNN accuracy: %s'%acc)\n",
        "print('precision: %s'%pre)\n",
        "print('recall: %s'%re)\n",
        "print('f1: %s'%f1)\n",
        "from sklearn.metrics import classification_report, confusion_matrix\n",
        "print(confusion_matrix(test_laels, predict))\n",
        "print(classification_report(test_laels, predict))"
      ]
    }
  ],
  "metadata": {
    "colab": {
      "collapsed_sections": [],
      "name": "IDS_with_DL.ipynb",
      "provenance": []
    },
    "kernelspec": {
      "display_name": "Python 3",
      "name": "python3"
    },
    "language_info": {
      "codemirror_mode": {
        "name": "ipython",
        "version": 3
      },
      "file_extension": ".py",
      "mimetype": "text/x-python",
      "name": "python",
      "nbconvert_exporter": "python",
      "pygments_lexer": "ipython3",
      "version": "3.12.3"
    }
  },
  "nbformat": 4,
  "nbformat_minor": 0
}
